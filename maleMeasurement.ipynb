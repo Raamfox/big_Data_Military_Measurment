{
 "cells": [
  {
   "cell_type": "code",
   "execution_count": 38,
   "metadata": {
    "collapsed": true
   },
   "outputs": [],
   "source": [
    "import pandas as pd"
   ]
  },
  {
   "cell_type": "code",
   "execution_count": 39,
   "outputs": [],
   "source": [
    "male_df = pd.read_csv('male.csv')"
   ],
   "metadata": {
    "collapsed": false,
    "pycharm": {
     "name": "#%%\n"
    }
   }
  },
  {
   "cell_type": "code",
   "execution_count": 40,
   "outputs": [
    {
     "data": {
      "text/plain": "    subjectid  abdominalextensiondepthsitting  acromialheight  \\\n0       10027                             266            1467   \n1       10032                             233            1395   \n2       10033                             287            1430   \n3       10092                             234            1347   \n4       10093                             250            1585   \n..        ...                             ...             ...   \n95      10692                             209            1466   \n96      10694                             245            1349   \n97      10695                             295            1403   \n98      10696                             226            1429   \n99      10701                             300            1433   \n\n    acromionradialelength  anklecircumference  axillaheight  \\\n0                     337                 222          1347   \n1                     326                 220          1293   \n2                     341                 230          1327   \n3                     310                 230          1239   \n4                     372                 247          1478   \n..                    ...                 ...           ...   \n95                    339                 233          1367   \n96                    303                 223          1248   \n97                    327                 231          1291   \n98                    330                 220          1337   \n99                    327                 228          1318   \n\n    balloffootcircumference  balloffootlength  biacromialbreadth  \\\n0                       253               202                401   \n1                       245               193                394   \n2                       256               196                427   \n3                       262               199                401   \n4                       267               224                435   \n..                      ...               ...                ...   \n95                      257               193                428   \n96                      248               182                403   \n97                      242               196                367   \n98                      242               195                439   \n99                      245               197                421   \n\n    bicepscircumferenceflexed  ...                  Branch  PrimaryMOS  \\\n0                         369  ...             Combat Arms         19D   \n1                         338  ...          Combat Support         68W   \n2                         408  ...          Combat Support         68W   \n3                         359  ...  Combat Service Support         88M   \n4                         356  ...  Combat Service Support         92G   \n..                        ...  ...                     ...         ...   \n95                        362  ...             Combat Arms         19D   \n96                        331  ...             Combat Arms         19K   \n97                        348  ...             Combat Arms         19K   \n98                        320  ...             Combat Arms         19K   \n99                        386  ...             Combat Arms         19K   \n\n    SubjectsBirthLocation  SubjectNumericRace  Ethnicity  DODRace  Age  \\\n0            North Dakota                   1        NaN        1   41   \n1                New York                   1        NaN        1   35   \n2                New York                   2        NaN        2   42   \n3               Wisconsin                   1        NaN        1   31   \n4          North Carolina                   2        NaN        2   21   \n..                    ...                 ...        ...      ...  ...   \n95          Massachusetts                   1        NaN        1   21   \n96              Tennessee                   1        NaN        1   22   \n97               Arkansas                   1        NaN        1   26   \n98                 Alaska                   1        NaN        1   20   \n99                   Ohio                   1        NaN        1   27   \n\n    Heightin  Weightlbs  WritingPreference  \n0         71        180         Right hand  \n1         68        160          Left hand  \n2         68        205          Left hand  \n3         66        175         Right hand  \n4         77        213         Right hand  \n..       ...        ...                ...  \n95        72        170         Right hand  \n96        66        158         Right hand  \n97        67        174         Right hand  \n98        74        165         Right hand  \n99        71        215         Right hand  \n\n[100 rows x 108 columns]",
      "text/html": "<div>\n<style scoped>\n    .dataframe tbody tr th:only-of-type {\n        vertical-align: middle;\n    }\n\n    .dataframe tbody tr th {\n        vertical-align: top;\n    }\n\n    .dataframe thead th {\n        text-align: right;\n    }\n</style>\n<table border=\"1\" class=\"dataframe\">\n  <thead>\n    <tr style=\"text-align: right;\">\n      <th></th>\n      <th>subjectid</th>\n      <th>abdominalextensiondepthsitting</th>\n      <th>acromialheight</th>\n      <th>acromionradialelength</th>\n      <th>anklecircumference</th>\n      <th>axillaheight</th>\n      <th>balloffootcircumference</th>\n      <th>balloffootlength</th>\n      <th>biacromialbreadth</th>\n      <th>bicepscircumferenceflexed</th>\n      <th>...</th>\n      <th>Branch</th>\n      <th>PrimaryMOS</th>\n      <th>SubjectsBirthLocation</th>\n      <th>SubjectNumericRace</th>\n      <th>Ethnicity</th>\n      <th>DODRace</th>\n      <th>Age</th>\n      <th>Heightin</th>\n      <th>Weightlbs</th>\n      <th>WritingPreference</th>\n    </tr>\n  </thead>\n  <tbody>\n    <tr>\n      <th>0</th>\n      <td>10027</td>\n      <td>266</td>\n      <td>1467</td>\n      <td>337</td>\n      <td>222</td>\n      <td>1347</td>\n      <td>253</td>\n      <td>202</td>\n      <td>401</td>\n      <td>369</td>\n      <td>...</td>\n      <td>Combat Arms</td>\n      <td>19D</td>\n      <td>North Dakota</td>\n      <td>1</td>\n      <td>NaN</td>\n      <td>1</td>\n      <td>41</td>\n      <td>71</td>\n      <td>180</td>\n      <td>Right hand</td>\n    </tr>\n    <tr>\n      <th>1</th>\n      <td>10032</td>\n      <td>233</td>\n      <td>1395</td>\n      <td>326</td>\n      <td>220</td>\n      <td>1293</td>\n      <td>245</td>\n      <td>193</td>\n      <td>394</td>\n      <td>338</td>\n      <td>...</td>\n      <td>Combat Support</td>\n      <td>68W</td>\n      <td>New York</td>\n      <td>1</td>\n      <td>NaN</td>\n      <td>1</td>\n      <td>35</td>\n      <td>68</td>\n      <td>160</td>\n      <td>Left hand</td>\n    </tr>\n    <tr>\n      <th>2</th>\n      <td>10033</td>\n      <td>287</td>\n      <td>1430</td>\n      <td>341</td>\n      <td>230</td>\n      <td>1327</td>\n      <td>256</td>\n      <td>196</td>\n      <td>427</td>\n      <td>408</td>\n      <td>...</td>\n      <td>Combat Support</td>\n      <td>68W</td>\n      <td>New York</td>\n      <td>2</td>\n      <td>NaN</td>\n      <td>2</td>\n      <td>42</td>\n      <td>68</td>\n      <td>205</td>\n      <td>Left hand</td>\n    </tr>\n    <tr>\n      <th>3</th>\n      <td>10092</td>\n      <td>234</td>\n      <td>1347</td>\n      <td>310</td>\n      <td>230</td>\n      <td>1239</td>\n      <td>262</td>\n      <td>199</td>\n      <td>401</td>\n      <td>359</td>\n      <td>...</td>\n      <td>Combat Service Support</td>\n      <td>88M</td>\n      <td>Wisconsin</td>\n      <td>1</td>\n      <td>NaN</td>\n      <td>1</td>\n      <td>31</td>\n      <td>66</td>\n      <td>175</td>\n      <td>Right hand</td>\n    </tr>\n    <tr>\n      <th>4</th>\n      <td>10093</td>\n      <td>250</td>\n      <td>1585</td>\n      <td>372</td>\n      <td>247</td>\n      <td>1478</td>\n      <td>267</td>\n      <td>224</td>\n      <td>435</td>\n      <td>356</td>\n      <td>...</td>\n      <td>Combat Service Support</td>\n      <td>92G</td>\n      <td>North Carolina</td>\n      <td>2</td>\n      <td>NaN</td>\n      <td>2</td>\n      <td>21</td>\n      <td>77</td>\n      <td>213</td>\n      <td>Right hand</td>\n    </tr>\n    <tr>\n      <th>...</th>\n      <td>...</td>\n      <td>...</td>\n      <td>...</td>\n      <td>...</td>\n      <td>...</td>\n      <td>...</td>\n      <td>...</td>\n      <td>...</td>\n      <td>...</td>\n      <td>...</td>\n      <td>...</td>\n      <td>...</td>\n      <td>...</td>\n      <td>...</td>\n      <td>...</td>\n      <td>...</td>\n      <td>...</td>\n      <td>...</td>\n      <td>...</td>\n      <td>...</td>\n      <td>...</td>\n    </tr>\n    <tr>\n      <th>95</th>\n      <td>10692</td>\n      <td>209</td>\n      <td>1466</td>\n      <td>339</td>\n      <td>233</td>\n      <td>1367</td>\n      <td>257</td>\n      <td>193</td>\n      <td>428</td>\n      <td>362</td>\n      <td>...</td>\n      <td>Combat Arms</td>\n      <td>19D</td>\n      <td>Massachusetts</td>\n      <td>1</td>\n      <td>NaN</td>\n      <td>1</td>\n      <td>21</td>\n      <td>72</td>\n      <td>170</td>\n      <td>Right hand</td>\n    </tr>\n    <tr>\n      <th>96</th>\n      <td>10694</td>\n      <td>245</td>\n      <td>1349</td>\n      <td>303</td>\n      <td>223</td>\n      <td>1248</td>\n      <td>248</td>\n      <td>182</td>\n      <td>403</td>\n      <td>331</td>\n      <td>...</td>\n      <td>Combat Arms</td>\n      <td>19K</td>\n      <td>Tennessee</td>\n      <td>1</td>\n      <td>NaN</td>\n      <td>1</td>\n      <td>22</td>\n      <td>66</td>\n      <td>158</td>\n      <td>Right hand</td>\n    </tr>\n    <tr>\n      <th>97</th>\n      <td>10695</td>\n      <td>295</td>\n      <td>1403</td>\n      <td>327</td>\n      <td>231</td>\n      <td>1291</td>\n      <td>242</td>\n      <td>196</td>\n      <td>367</td>\n      <td>348</td>\n      <td>...</td>\n      <td>Combat Arms</td>\n      <td>19K</td>\n      <td>Arkansas</td>\n      <td>1</td>\n      <td>NaN</td>\n      <td>1</td>\n      <td>26</td>\n      <td>67</td>\n      <td>174</td>\n      <td>Right hand</td>\n    </tr>\n    <tr>\n      <th>98</th>\n      <td>10696</td>\n      <td>226</td>\n      <td>1429</td>\n      <td>330</td>\n      <td>220</td>\n      <td>1337</td>\n      <td>242</td>\n      <td>195</td>\n      <td>439</td>\n      <td>320</td>\n      <td>...</td>\n      <td>Combat Arms</td>\n      <td>19K</td>\n      <td>Alaska</td>\n      <td>1</td>\n      <td>NaN</td>\n      <td>1</td>\n      <td>20</td>\n      <td>74</td>\n      <td>165</td>\n      <td>Right hand</td>\n    </tr>\n    <tr>\n      <th>99</th>\n      <td>10701</td>\n      <td>300</td>\n      <td>1433</td>\n      <td>327</td>\n      <td>228</td>\n      <td>1318</td>\n      <td>245</td>\n      <td>197</td>\n      <td>421</td>\n      <td>386</td>\n      <td>...</td>\n      <td>Combat Arms</td>\n      <td>19K</td>\n      <td>Ohio</td>\n      <td>1</td>\n      <td>NaN</td>\n      <td>1</td>\n      <td>27</td>\n      <td>71</td>\n      <td>215</td>\n      <td>Right hand</td>\n    </tr>\n  </tbody>\n</table>\n<p>100 rows × 108 columns</p>\n</div>"
     },
     "execution_count": 40,
     "metadata": {},
     "output_type": "execute_result"
    }
   ],
   "source": [
    "male_df.head(100)"
   ],
   "metadata": {
    "collapsed": false,
    "pycharm": {
     "name": "#%%\n"
    }
   }
  },
  {
   "cell_type": "code",
   "execution_count": 41,
   "outputs": [
    {
     "data": {
      "text/plain": "      subjectid  chestcircumference  waistcircumference  weightkg  \\\n0         10027                1074                 933       815   \n1         10032                1021                 870       726   \n2         10033                1120                 964       929   \n3         10092                1114                 857       794   \n4         10093                1048                 868       946   \n...         ...                 ...                 ...       ...   \n4077      29442                 954                 816       675   \n4078      29443                1072                 978       896   \n4079      29447                1045                 991       832   \n4080      29451                 984                 783       731   \n4081      29452                1144                1080       985   \n\n      buttockcircumference  crotchheight  stature  \n0                      979           877     1776  \n1                      944           851     1702  \n2                     1054           854     1735  \n3                      991           769     1655  \n4                     1029          1014     1914  \n...                    ...           ...      ...  \n4077                   917           807     1688  \n4078                  1049           848     1765  \n4079                  1038           787     1690  \n4080                   929           846     1718  \n4081                  1009           931     1828  \n\n[4082 rows x 7 columns]",
      "text/html": "<div>\n<style scoped>\n    .dataframe tbody tr th:only-of-type {\n        vertical-align: middle;\n    }\n\n    .dataframe tbody tr th {\n        vertical-align: top;\n    }\n\n    .dataframe thead th {\n        text-align: right;\n    }\n</style>\n<table border=\"1\" class=\"dataframe\">\n  <thead>\n    <tr style=\"text-align: right;\">\n      <th></th>\n      <th>subjectid</th>\n      <th>chestcircumference</th>\n      <th>waistcircumference</th>\n      <th>weightkg</th>\n      <th>buttockcircumference</th>\n      <th>crotchheight</th>\n      <th>stature</th>\n    </tr>\n  </thead>\n  <tbody>\n    <tr>\n      <th>0</th>\n      <td>10027</td>\n      <td>1074</td>\n      <td>933</td>\n      <td>815</td>\n      <td>979</td>\n      <td>877</td>\n      <td>1776</td>\n    </tr>\n    <tr>\n      <th>1</th>\n      <td>10032</td>\n      <td>1021</td>\n      <td>870</td>\n      <td>726</td>\n      <td>944</td>\n      <td>851</td>\n      <td>1702</td>\n    </tr>\n    <tr>\n      <th>2</th>\n      <td>10033</td>\n      <td>1120</td>\n      <td>964</td>\n      <td>929</td>\n      <td>1054</td>\n      <td>854</td>\n      <td>1735</td>\n    </tr>\n    <tr>\n      <th>3</th>\n      <td>10092</td>\n      <td>1114</td>\n      <td>857</td>\n      <td>794</td>\n      <td>991</td>\n      <td>769</td>\n      <td>1655</td>\n    </tr>\n    <tr>\n      <th>4</th>\n      <td>10093</td>\n      <td>1048</td>\n      <td>868</td>\n      <td>946</td>\n      <td>1029</td>\n      <td>1014</td>\n      <td>1914</td>\n    </tr>\n    <tr>\n      <th>...</th>\n      <td>...</td>\n      <td>...</td>\n      <td>...</td>\n      <td>...</td>\n      <td>...</td>\n      <td>...</td>\n      <td>...</td>\n    </tr>\n    <tr>\n      <th>4077</th>\n      <td>29442</td>\n      <td>954</td>\n      <td>816</td>\n      <td>675</td>\n      <td>917</td>\n      <td>807</td>\n      <td>1688</td>\n    </tr>\n    <tr>\n      <th>4078</th>\n      <td>29443</td>\n      <td>1072</td>\n      <td>978</td>\n      <td>896</td>\n      <td>1049</td>\n      <td>848</td>\n      <td>1765</td>\n    </tr>\n    <tr>\n      <th>4079</th>\n      <td>29447</td>\n      <td>1045</td>\n      <td>991</td>\n      <td>832</td>\n      <td>1038</td>\n      <td>787</td>\n      <td>1690</td>\n    </tr>\n    <tr>\n      <th>4080</th>\n      <td>29451</td>\n      <td>984</td>\n      <td>783</td>\n      <td>731</td>\n      <td>929</td>\n      <td>846</td>\n      <td>1718</td>\n    </tr>\n    <tr>\n      <th>4081</th>\n      <td>29452</td>\n      <td>1144</td>\n      <td>1080</td>\n      <td>985</td>\n      <td>1009</td>\n      <td>931</td>\n      <td>1828</td>\n    </tr>\n  </tbody>\n</table>\n<p>4082 rows × 7 columns</p>\n</div>"
     },
     "execution_count": 41,
     "metadata": {},
     "output_type": "execute_result"
    }
   ],
   "source": [
    "# byxstorlek 90, 83,\n",
    "male_df[['subjectid', 'chestcircumference', 'waistcircumference', 'weightkg', 'buttockcircumference', 'crotchheight', 'stature']]"
   ],
   "metadata": {
    "collapsed": false,
    "pycharm": {
     "name": "#%%\n"
    }
   }
  },
  {
   "cell_type": "code",
   "execution_count": 42,
   "outputs": [
    {
     "name": "stdout",
     "output_type": "stream",
     "text": [
      "0       107.4\n",
      "1       102.1\n",
      "2       112.0\n",
      "3       111.4\n",
      "4       104.8\n",
      "        ...  \n",
      "4077     95.4\n",
      "4078    107.2\n",
      "4079    104.5\n",
      "4080     98.4\n",
      "4081    114.4\n",
      "Name: chestcircumference, Length: 4082, dtype: float64\n"
     ]
    }
   ],
   "source": [
    "col_chest = male_df['chestcircumference']/10\n",
    "print(col_chest)"
   ],
   "metadata": {
    "collapsed": false,
    "pycharm": {
     "name": "#%%\n"
    }
   }
  },
  {
   "cell_type": "code",
   "execution_count": 43,
   "outputs": [
    {
     "name": "stdout",
     "output_type": "stream",
     "text": [
      "0        93.3\n",
      "1        87.0\n",
      "2        96.4\n",
      "3        85.7\n",
      "4        86.8\n",
      "        ...  \n",
      "4077     81.6\n",
      "4078     97.8\n",
      "4079     99.1\n",
      "4080     78.3\n",
      "4081    108.0\n",
      "Name: waistcircumference, Length: 4082, dtype: float64\n"
     ]
    }
   ],
   "source": [
    "col_waist = male_df['waistcircumference']/10\n",
    "print(col_waist)"
   ],
   "metadata": {
    "collapsed": false,
    "pycharm": {
     "name": "#%%\n"
    }
   }
  },
  {
   "cell_type": "code",
   "execution_count": 44,
   "outputs": [
    {
     "name": "stdout",
     "output_type": "stream",
     "text": [
      "0       10027\n",
      "1       10032\n",
      "2       10033\n",
      "3       10092\n",
      "4       10093\n",
      "        ...  \n",
      "4077    29442\n",
      "4078    29443\n",
      "4079    29447\n",
      "4080    29451\n",
      "4081    29452\n",
      "Name: subjectid, Length: 4082, dtype: int64\n"
     ]
    }
   ],
   "source": [
    "col_subID = male_df['subjectid']\n",
    "print(col_subID)"
   ],
   "metadata": {
    "collapsed": false,
    "pycharm": {
     "name": "#%%\n"
    }
   }
  },
  {
   "cell_type": "code",
   "execution_count": 45,
   "outputs": [
    {
     "name": "stdout",
     "output_type": "stream",
     "text": [
      "0       81.5\n",
      "1       72.6\n",
      "2       92.9\n",
      "3       79.4\n",
      "4       94.6\n",
      "        ... \n",
      "4077    67.5\n",
      "4078    89.6\n",
      "4079    83.2\n",
      "4080    73.1\n",
      "4081    98.5\n",
      "Name: weightkg, Length: 4082, dtype: float64\n"
     ]
    }
   ],
   "source": [
    "col_weight = male_df['weightkg']/10\n",
    "print(col_weight)"
   ],
   "metadata": {
    "collapsed": false,
    "pycharm": {
     "name": "#%%\n"
    }
   }
  },
  {
   "cell_type": "code",
   "execution_count": 46,
   "outputs": [
    {
     "name": "stdout",
     "output_type": "stream",
     "text": [
      "0        97.9\n",
      "1        94.4\n",
      "2       105.4\n",
      "3        99.1\n",
      "4       102.9\n",
      "        ...  \n",
      "4077     91.7\n",
      "4078    104.9\n",
      "4079    103.8\n",
      "4080     92.9\n",
      "4081    100.9\n",
      "Name: buttockcircumference, Length: 4082, dtype: float64\n"
     ]
    }
   ],
   "source": [
    "col_butt = male_df['buttockcircumference']/10\n",
    "print(col_butt)"
   ],
   "metadata": {
    "collapsed": false,
    "pycharm": {
     "name": "#%%\n"
    }
   }
  },
  {
   "cell_type": "code",
   "execution_count": 47,
   "outputs": [
    {
     "name": "stdout",
     "output_type": "stream",
     "text": [
      "0        87.7\n",
      "1        85.1\n",
      "2        85.4\n",
      "3        76.9\n",
      "4       101.4\n",
      "        ...  \n",
      "4077     80.7\n",
      "4078     84.8\n",
      "4079     78.7\n",
      "4080     84.6\n",
      "4081     93.1\n",
      "Name: crotchheight, Length: 4082, dtype: float64\n"
     ]
    }
   ],
   "source": [
    "col_crotch = male_df['crotchheight']/10\n",
    "print(col_crotch)"
   ],
   "metadata": {
    "collapsed": false,
    "pycharm": {
     "name": "#%%\n"
    }
   }
  },
  {
   "cell_type": "code",
   "execution_count": 48,
   "outputs": [
    {
     "name": "stdout",
     "output_type": "stream",
     "text": [
      "0       177.6\n",
      "1       170.2\n",
      "2       173.5\n",
      "3       165.5\n",
      "4       191.4\n",
      "        ...  \n",
      "4077    168.8\n",
      "4078    176.5\n",
      "4079    169.0\n",
      "4080    171.8\n",
      "4081    182.8\n",
      "Name: stature, Length: 4082, dtype: float64\n"
     ]
    }
   ],
   "source": [
    "col_stature = male_df['stature']/10\n",
    "print(col_stature)"
   ],
   "metadata": {
    "collapsed": false,
    "pycharm": {
     "name": "#%%\n"
    }
   }
  },
  {
   "cell_type": "code",
   "execution_count": 49,
   "outputs": [],
   "source": [
    "male_update = pd.concat([col_subID, col_chest, col_waist, col_weight, col_butt, col_crotch, col_stature], axis=1)"
   ],
   "metadata": {
    "collapsed": false,
    "pycharm": {
     "name": "#%%\n"
    }
   }
  },
  {
   "cell_type": "code",
   "execution_count": 50,
   "outputs": [
    {
     "data": {
      "text/plain": "   subjectid  chestcircumference  waistcircumference  weightkg  \\\n0      10027               107.4                93.3      81.5   \n1      10032               102.1                87.0      72.6   \n2      10033               112.0                96.4      92.9   \n3      10092               111.4                85.7      79.4   \n4      10093               104.8                86.8      94.6   \n\n   buttockcircumference  crotchheight  stature  \n0                  97.9          87.7    177.6  \n1                  94.4          85.1    170.2  \n2                 105.4          85.4    173.5  \n3                  99.1          76.9    165.5  \n4                 102.9         101.4    191.4  ",
      "text/html": "<div>\n<style scoped>\n    .dataframe tbody tr th:only-of-type {\n        vertical-align: middle;\n    }\n\n    .dataframe tbody tr th {\n        vertical-align: top;\n    }\n\n    .dataframe thead th {\n        text-align: right;\n    }\n</style>\n<table border=\"1\" class=\"dataframe\">\n  <thead>\n    <tr style=\"text-align: right;\">\n      <th></th>\n      <th>subjectid</th>\n      <th>chestcircumference</th>\n      <th>waistcircumference</th>\n      <th>weightkg</th>\n      <th>buttockcircumference</th>\n      <th>crotchheight</th>\n      <th>stature</th>\n    </tr>\n  </thead>\n  <tbody>\n    <tr>\n      <th>0</th>\n      <td>10027</td>\n      <td>107.4</td>\n      <td>93.3</td>\n      <td>81.5</td>\n      <td>97.9</td>\n      <td>87.7</td>\n      <td>177.6</td>\n    </tr>\n    <tr>\n      <th>1</th>\n      <td>10032</td>\n      <td>102.1</td>\n      <td>87.0</td>\n      <td>72.6</td>\n      <td>94.4</td>\n      <td>85.1</td>\n      <td>170.2</td>\n    </tr>\n    <tr>\n      <th>2</th>\n      <td>10033</td>\n      <td>112.0</td>\n      <td>96.4</td>\n      <td>92.9</td>\n      <td>105.4</td>\n      <td>85.4</td>\n      <td>173.5</td>\n    </tr>\n    <tr>\n      <th>3</th>\n      <td>10092</td>\n      <td>111.4</td>\n      <td>85.7</td>\n      <td>79.4</td>\n      <td>99.1</td>\n      <td>76.9</td>\n      <td>165.5</td>\n    </tr>\n    <tr>\n      <th>4</th>\n      <td>10093</td>\n      <td>104.8</td>\n      <td>86.8</td>\n      <td>94.6</td>\n      <td>102.9</td>\n      <td>101.4</td>\n      <td>191.4</td>\n    </tr>\n  </tbody>\n</table>\n</div>"
     },
     "execution_count": 50,
     "metadata": {},
     "output_type": "execute_result"
    }
   ],
   "source": [
    "male_update.head()"
   ],
   "metadata": {
    "collapsed": false,
    "pycharm": {
     "name": "#%%\n"
    }
   }
  },
  {
   "cell_type": "code",
   "execution_count": 51,
   "outputs": [],
   "source": [
    "male_update.to_csv('male_update.csv')"
   ],
   "metadata": {
    "collapsed": false,
    "pycharm": {
     "name": "#%%\n"
    }
   }
  },
  {
   "cell_type": "code",
   "execution_count": 52,
   "outputs": [
    {
     "data": {
      "text/plain": "   Unnamed: 0  subjectid  chestcircumference  waistcircumference  \\\n0           0      10027               107.4                93.3   \n1           1      10032               102.1                87.0   \n2           2      10033               112.0                96.4   \n3           3      10092               111.4                85.7   \n4           4      10093               104.8                86.8   \n\n  T Shirt size(chest,waistcircum)  weightkg  buttockcircumference  \\\n0                               -      81.5                  97.9   \n1                               -      72.6                  94.4   \n2                               -      92.9                 105.4   \n3                               -      79.4                  99.1   \n4                               -      94.6                 102.9   \n\n   crotchheight  stature  \n0          87.7    177.6  \n1          85.1    170.2  \n2          85.4    173.5  \n3          76.9    165.5  \n4         101.4    191.4  ",
      "text/html": "<div>\n<style scoped>\n    .dataframe tbody tr th:only-of-type {\n        vertical-align: middle;\n    }\n\n    .dataframe tbody tr th {\n        vertical-align: top;\n    }\n\n    .dataframe thead th {\n        text-align: right;\n    }\n</style>\n<table border=\"1\" class=\"dataframe\">\n  <thead>\n    <tr style=\"text-align: right;\">\n      <th></th>\n      <th>Unnamed: 0</th>\n      <th>subjectid</th>\n      <th>chestcircumference</th>\n      <th>waistcircumference</th>\n      <th>T Shirt size(chest,waistcircum)</th>\n      <th>weightkg</th>\n      <th>buttockcircumference</th>\n      <th>crotchheight</th>\n      <th>stature</th>\n    </tr>\n  </thead>\n  <tbody>\n    <tr>\n      <th>0</th>\n      <td>0</td>\n      <td>10027</td>\n      <td>107.4</td>\n      <td>93.3</td>\n      <td>-</td>\n      <td>81.5</td>\n      <td>97.9</td>\n      <td>87.7</td>\n      <td>177.6</td>\n    </tr>\n    <tr>\n      <th>1</th>\n      <td>1</td>\n      <td>10032</td>\n      <td>102.1</td>\n      <td>87.0</td>\n      <td>-</td>\n      <td>72.6</td>\n      <td>94.4</td>\n      <td>85.1</td>\n      <td>170.2</td>\n    </tr>\n    <tr>\n      <th>2</th>\n      <td>2</td>\n      <td>10033</td>\n      <td>112.0</td>\n      <td>96.4</td>\n      <td>-</td>\n      <td>92.9</td>\n      <td>105.4</td>\n      <td>85.4</td>\n      <td>173.5</td>\n    </tr>\n    <tr>\n      <th>3</th>\n      <td>3</td>\n      <td>10092</td>\n      <td>111.4</td>\n      <td>85.7</td>\n      <td>-</td>\n      <td>79.4</td>\n      <td>99.1</td>\n      <td>76.9</td>\n      <td>165.5</td>\n    </tr>\n    <tr>\n      <th>4</th>\n      <td>4</td>\n      <td>10093</td>\n      <td>104.8</td>\n      <td>86.8</td>\n      <td>-</td>\n      <td>94.6</td>\n      <td>102.9</td>\n      <td>101.4</td>\n      <td>191.4</td>\n    </tr>\n  </tbody>\n</table>\n</div>"
     },
     "execution_count": 52,
     "metadata": {},
     "output_type": "execute_result"
    }
   ],
   "source": [
    "male_tshirt = pd.read_csv('male_update.csv')\n",
    "male_tshirt.insert(4, column=\"T Shirt size(chest,waistcircum)\", value=\"-\")\n",
    "male_tshirt.head()"
   ],
   "metadata": {
    "collapsed": false,
    "pycharm": {
     "name": "#%%\n"
    }
   }
  },
  {
   "cell_type": "code",
   "execution_count": 53,
   "outputs": [],
   "source": [
    "male_tshirt.to_csv('male_tshirt.csv')"
   ],
   "metadata": {
    "collapsed": false,
    "pycharm": {
     "name": "#%%\n"
    }
   }
  },
  {
   "cell_type": "code",
   "execution_count": 54,
   "outputs": [],
   "source": [
    "male_tshirt_size = pd.read_csv('male_tshirt.csv')"
   ],
   "metadata": {
    "collapsed": false,
    "pycharm": {
     "name": "#%%\n"
    }
   }
  },
  {
   "cell_type": "code",
   "execution_count": 55,
   "outputs": [
    {
     "data": {
      "text/plain": "    Unnamed: 0.1  Unnamed: 0  subjectid  chestcircumference  \\\n0              0           0      10027               107.4   \n1              1           1      10032               102.1   \n2              2           2      10033               112.0   \n3              3           3      10092               111.4   \n4              4           4      10093               104.8   \n..           ...         ...        ...                 ...   \n95            95          95      10692                99.4   \n96            96          96      10694               100.1   \n97            97          97      10695               106.9   \n98            98          98      10696                99.5   \n99            99          99      10701               110.4   \n\n    waistcircumference T Shirt size(chest,waistcircum)  weightkg  \\\n0                 93.3                               -      81.5   \n1                 87.0                               -      72.6   \n2                 96.4                               -      92.9   \n3                 85.7                               -      79.4   \n4                 86.8                               -      94.6   \n..                 ...                             ...       ...   \n95                80.9                               -      77.5   \n96                86.2                               -      72.7   \n97               102.7                               -      79.7   \n98                79.7                               -      74.4   \n99               108.2                               -      96.8   \n\n    buttockcircumference  crotchheight  stature  \n0                   97.9          87.7    177.6  \n1                   94.4          85.1    170.2  \n2                  105.4          85.4    173.5  \n3                   99.1          76.9    165.5  \n4                  102.9         101.4    191.4  \n..                   ...           ...      ...  \n95                  97.3          89.1    179.1  \n96                  99.9          80.2    165.7  \n97                  98.8          82.2    170.1  \n98                 100.7          85.3    178.6  \n99                 111.8          82.1    175.5  \n\n[100 rows x 10 columns]",
      "text/html": "<div>\n<style scoped>\n    .dataframe tbody tr th:only-of-type {\n        vertical-align: middle;\n    }\n\n    .dataframe tbody tr th {\n        vertical-align: top;\n    }\n\n    .dataframe thead th {\n        text-align: right;\n    }\n</style>\n<table border=\"1\" class=\"dataframe\">\n  <thead>\n    <tr style=\"text-align: right;\">\n      <th></th>\n      <th>Unnamed: 0.1</th>\n      <th>Unnamed: 0</th>\n      <th>subjectid</th>\n      <th>chestcircumference</th>\n      <th>waistcircumference</th>\n      <th>T Shirt size(chest,waistcircum)</th>\n      <th>weightkg</th>\n      <th>buttockcircumference</th>\n      <th>crotchheight</th>\n      <th>stature</th>\n    </tr>\n  </thead>\n  <tbody>\n    <tr>\n      <th>0</th>\n      <td>0</td>\n      <td>0</td>\n      <td>10027</td>\n      <td>107.4</td>\n      <td>93.3</td>\n      <td>-</td>\n      <td>81.5</td>\n      <td>97.9</td>\n      <td>87.7</td>\n      <td>177.6</td>\n    </tr>\n    <tr>\n      <th>1</th>\n      <td>1</td>\n      <td>1</td>\n      <td>10032</td>\n      <td>102.1</td>\n      <td>87.0</td>\n      <td>-</td>\n      <td>72.6</td>\n      <td>94.4</td>\n      <td>85.1</td>\n      <td>170.2</td>\n    </tr>\n    <tr>\n      <th>2</th>\n      <td>2</td>\n      <td>2</td>\n      <td>10033</td>\n      <td>112.0</td>\n      <td>96.4</td>\n      <td>-</td>\n      <td>92.9</td>\n      <td>105.4</td>\n      <td>85.4</td>\n      <td>173.5</td>\n    </tr>\n    <tr>\n      <th>3</th>\n      <td>3</td>\n      <td>3</td>\n      <td>10092</td>\n      <td>111.4</td>\n      <td>85.7</td>\n      <td>-</td>\n      <td>79.4</td>\n      <td>99.1</td>\n      <td>76.9</td>\n      <td>165.5</td>\n    </tr>\n    <tr>\n      <th>4</th>\n      <td>4</td>\n      <td>4</td>\n      <td>10093</td>\n      <td>104.8</td>\n      <td>86.8</td>\n      <td>-</td>\n      <td>94.6</td>\n      <td>102.9</td>\n      <td>101.4</td>\n      <td>191.4</td>\n    </tr>\n    <tr>\n      <th>...</th>\n      <td>...</td>\n      <td>...</td>\n      <td>...</td>\n      <td>...</td>\n      <td>...</td>\n      <td>...</td>\n      <td>...</td>\n      <td>...</td>\n      <td>...</td>\n      <td>...</td>\n    </tr>\n    <tr>\n      <th>95</th>\n      <td>95</td>\n      <td>95</td>\n      <td>10692</td>\n      <td>99.4</td>\n      <td>80.9</td>\n      <td>-</td>\n      <td>77.5</td>\n      <td>97.3</td>\n      <td>89.1</td>\n      <td>179.1</td>\n    </tr>\n    <tr>\n      <th>96</th>\n      <td>96</td>\n      <td>96</td>\n      <td>10694</td>\n      <td>100.1</td>\n      <td>86.2</td>\n      <td>-</td>\n      <td>72.7</td>\n      <td>99.9</td>\n      <td>80.2</td>\n      <td>165.7</td>\n    </tr>\n    <tr>\n      <th>97</th>\n      <td>97</td>\n      <td>97</td>\n      <td>10695</td>\n      <td>106.9</td>\n      <td>102.7</td>\n      <td>-</td>\n      <td>79.7</td>\n      <td>98.8</td>\n      <td>82.2</td>\n      <td>170.1</td>\n    </tr>\n    <tr>\n      <th>98</th>\n      <td>98</td>\n      <td>98</td>\n      <td>10696</td>\n      <td>99.5</td>\n      <td>79.7</td>\n      <td>-</td>\n      <td>74.4</td>\n      <td>100.7</td>\n      <td>85.3</td>\n      <td>178.6</td>\n    </tr>\n    <tr>\n      <th>99</th>\n      <td>99</td>\n      <td>99</td>\n      <td>10701</td>\n      <td>110.4</td>\n      <td>108.2</td>\n      <td>-</td>\n      <td>96.8</td>\n      <td>111.8</td>\n      <td>82.1</td>\n      <td>175.5</td>\n    </tr>\n  </tbody>\n</table>\n<p>100 rows × 10 columns</p>\n</div>"
     },
     "execution_count": 55,
     "metadata": {},
     "output_type": "execute_result"
    }
   ],
   "source": [
    "male_tshirt_size.head(100)"
   ],
   "metadata": {
    "collapsed": false,
    "pycharm": {
     "name": "#%%\n"
    }
   }
  },
  {
   "cell_type": "code",
   "execution_count": 56,
   "outputs": [
    {
     "data": {
      "text/plain": "    Unnamed: 0.1  Unnamed: 0  subjectid  chestcircumference  \\\n0              0           0      10027               107.4   \n1              1           1      10032               102.1   \n2              2           2      10033               112.0   \n3              3           3      10092               111.4   \n4              4           4      10093               104.8   \n..           ...         ...        ...                 ...   \n95            95          95      10692                99.4   \n96            96          96      10694               100.1   \n97            97          97      10695               106.9   \n98            98          98      10696                99.5   \n99            99          99      10701               110.4   \n\n    waistcircumference T Shirt size(chest,waistcircum)  weightkg  \\\n0                 93.3                           Large      81.5   \n1                 87.0                           Large      72.6   \n2                 96.4                             X-L      92.9   \n3                 85.7                           Large      79.4   \n4                 86.8                           Large      94.6   \n..                 ...                             ...       ...   \n95                80.9                          Medium      77.5   \n96                86.2                          Medium      72.7   \n97               102.7                             X-L      79.7   \n98                79.7                          Medium      74.4   \n99               108.2                             X-L      96.8   \n\n    buttockcircumference  crotchheight  stature  \n0                   97.9          87.7    177.6  \n1                   94.4          85.1    170.2  \n2                  105.4          85.4    173.5  \n3                   99.1          76.9    165.5  \n4                  102.9         101.4    191.4  \n..                   ...           ...      ...  \n95                  97.3          89.1    179.1  \n96                  99.9          80.2    165.7  \n97                  98.8          82.2    170.1  \n98                 100.7          85.3    178.6  \n99                 111.8          82.1    175.5  \n\n[100 rows x 10 columns]",
      "text/html": "<div>\n<style scoped>\n    .dataframe tbody tr th:only-of-type {\n        vertical-align: middle;\n    }\n\n    .dataframe tbody tr th {\n        vertical-align: top;\n    }\n\n    .dataframe thead th {\n        text-align: right;\n    }\n</style>\n<table border=\"1\" class=\"dataframe\">\n  <thead>\n    <tr style=\"text-align: right;\">\n      <th></th>\n      <th>Unnamed: 0.1</th>\n      <th>Unnamed: 0</th>\n      <th>subjectid</th>\n      <th>chestcircumference</th>\n      <th>waistcircumference</th>\n      <th>T Shirt size(chest,waistcircum)</th>\n      <th>weightkg</th>\n      <th>buttockcircumference</th>\n      <th>crotchheight</th>\n      <th>stature</th>\n    </tr>\n  </thead>\n  <tbody>\n    <tr>\n      <th>0</th>\n      <td>0</td>\n      <td>0</td>\n      <td>10027</td>\n      <td>107.4</td>\n      <td>93.3</td>\n      <td>Large</td>\n      <td>81.5</td>\n      <td>97.9</td>\n      <td>87.7</td>\n      <td>177.6</td>\n    </tr>\n    <tr>\n      <th>1</th>\n      <td>1</td>\n      <td>1</td>\n      <td>10032</td>\n      <td>102.1</td>\n      <td>87.0</td>\n      <td>Large</td>\n      <td>72.6</td>\n      <td>94.4</td>\n      <td>85.1</td>\n      <td>170.2</td>\n    </tr>\n    <tr>\n      <th>2</th>\n      <td>2</td>\n      <td>2</td>\n      <td>10033</td>\n      <td>112.0</td>\n      <td>96.4</td>\n      <td>X-L</td>\n      <td>92.9</td>\n      <td>105.4</td>\n      <td>85.4</td>\n      <td>173.5</td>\n    </tr>\n    <tr>\n      <th>3</th>\n      <td>3</td>\n      <td>3</td>\n      <td>10092</td>\n      <td>111.4</td>\n      <td>85.7</td>\n      <td>Large</td>\n      <td>79.4</td>\n      <td>99.1</td>\n      <td>76.9</td>\n      <td>165.5</td>\n    </tr>\n    <tr>\n      <th>4</th>\n      <td>4</td>\n      <td>4</td>\n      <td>10093</td>\n      <td>104.8</td>\n      <td>86.8</td>\n      <td>Large</td>\n      <td>94.6</td>\n      <td>102.9</td>\n      <td>101.4</td>\n      <td>191.4</td>\n    </tr>\n    <tr>\n      <th>...</th>\n      <td>...</td>\n      <td>...</td>\n      <td>...</td>\n      <td>...</td>\n      <td>...</td>\n      <td>...</td>\n      <td>...</td>\n      <td>...</td>\n      <td>...</td>\n      <td>...</td>\n    </tr>\n    <tr>\n      <th>95</th>\n      <td>95</td>\n      <td>95</td>\n      <td>10692</td>\n      <td>99.4</td>\n      <td>80.9</td>\n      <td>Medium</td>\n      <td>77.5</td>\n      <td>97.3</td>\n      <td>89.1</td>\n      <td>179.1</td>\n    </tr>\n    <tr>\n      <th>96</th>\n      <td>96</td>\n      <td>96</td>\n      <td>10694</td>\n      <td>100.1</td>\n      <td>86.2</td>\n      <td>Medium</td>\n      <td>72.7</td>\n      <td>99.9</td>\n      <td>80.2</td>\n      <td>165.7</td>\n    </tr>\n    <tr>\n      <th>97</th>\n      <td>97</td>\n      <td>97</td>\n      <td>10695</td>\n      <td>106.9</td>\n      <td>102.7</td>\n      <td>X-L</td>\n      <td>79.7</td>\n      <td>98.8</td>\n      <td>82.2</td>\n      <td>170.1</td>\n    </tr>\n    <tr>\n      <th>98</th>\n      <td>98</td>\n      <td>98</td>\n      <td>10696</td>\n      <td>99.5</td>\n      <td>79.7</td>\n      <td>Medium</td>\n      <td>74.4</td>\n      <td>100.7</td>\n      <td>85.3</td>\n      <td>178.6</td>\n    </tr>\n    <tr>\n      <th>99</th>\n      <td>99</td>\n      <td>99</td>\n      <td>10701</td>\n      <td>110.4</td>\n      <td>108.2</td>\n      <td>X-L</td>\n      <td>96.8</td>\n      <td>111.8</td>\n      <td>82.1</td>\n      <td>175.5</td>\n    </tr>\n  </tbody>\n</table>\n<p>100 rows × 10 columns</p>\n</div>"
     },
     "execution_count": 56,
     "metadata": {},
     "output_type": "execute_result"
    }
   ],
   "source": [
    "size = []\n",
    "for chest, waist in zip(male_tshirt_size['chestcircumference'],male_tshirt_size['waistcircumference']):\n",
    "    if chest < 92:\n",
    "        if waist >= 86:\n",
    "            size.append('Medium')\n",
    "        else:\n",
    "            size.append('Small')\n",
    "    elif chest < 102:\n",
    "        if waist >= 91:\n",
    "            size.append('Large')\n",
    "        else:\n",
    "            size.append('Medium')\n",
    "    elif chest < 112:\n",
    "        if waist >= 96:\n",
    "            size.append('X-L')\n",
    "        else:\n",
    "            size.append('Large')\n",
    "    elif chest < 122:\n",
    "        if waist >= 101:\n",
    "            size.append('XX-L')\n",
    "        else:\n",
    "            size.append('X-L')\n",
    "    elif chest < 132:\n",
    "        size.append('XX-L')\n",
    "    elif chest < 142:\n",
    "        size.append('XXX-L')\n",
    "    elif chest < 152:\n",
    "        size.append('XXXX-L')\n",
    "\n",
    "male_tshirt_size['T Shirt size(chest,waistcircum)'] = size\n",
    "male_tshirt_size.head(100)"
   ],
   "metadata": {
    "collapsed": false,
    "pycharm": {
     "name": "#%%\n"
    }
   }
  },
  {
   "cell_type": "code",
   "execution_count": 57,
   "outputs": [
    {
     "ename": "KeyError",
     "evalue": "\"['T shirt size'] not found in axis\"",
     "output_type": "error",
     "traceback": [
      "\u001B[1;31m---------------------------------------------------------------------------\u001B[0m",
      "\u001B[1;31mKeyError\u001B[0m                                  Traceback (most recent call last)",
      "Input \u001B[1;32mIn [57]\u001B[0m, in \u001B[0;36m<cell line: 1>\u001B[1;34m()\u001B[0m\n\u001B[1;32m----> 1\u001B[0m \u001B[43mmale_tshirt_size\u001B[49m\u001B[38;5;241;43m.\u001B[39;49m\u001B[43mdrop\u001B[49m\u001B[43m(\u001B[49m\u001B[43m[\u001B[49m\u001B[38;5;124;43m\"\u001B[39;49m\u001B[38;5;124;43mUnnamed: 0\u001B[39;49m\u001B[38;5;124;43m\"\u001B[39;49m\u001B[43m,\u001B[49m\u001B[43m \u001B[49m\u001B[38;5;124;43m\"\u001B[39;49m\u001B[38;5;124;43mUnnamed: 0.1\u001B[39;49m\u001B[38;5;124;43m\"\u001B[39;49m\u001B[43m,\u001B[49m\u001B[43m \u001B[49m\u001B[38;5;124;43m\"\u001B[39;49m\u001B[38;5;124;43mT shirt size\u001B[39;49m\u001B[38;5;124;43m\"\u001B[39;49m\u001B[43m]\u001B[49m\u001B[43m,\u001B[49m\u001B[43m \u001B[49m\u001B[43maxis\u001B[49m\u001B[38;5;241;43m=\u001B[39;49m\u001B[38;5;241;43m1\u001B[39;49m\u001B[43m)\u001B[49m\n",
      "File \u001B[1;32mD:\\Programmeringssprok\\Pyhton\\militaryMeasurement\\venv\\lib\\site-packages\\pandas\\util\\_decorators.py:311\u001B[0m, in \u001B[0;36mdeprecate_nonkeyword_arguments.<locals>.decorate.<locals>.wrapper\u001B[1;34m(*args, **kwargs)\u001B[0m\n\u001B[0;32m    305\u001B[0m \u001B[38;5;28;01mif\u001B[39;00m \u001B[38;5;28mlen\u001B[39m(args) \u001B[38;5;241m>\u001B[39m num_allow_args:\n\u001B[0;32m    306\u001B[0m     warnings\u001B[38;5;241m.\u001B[39mwarn(\n\u001B[0;32m    307\u001B[0m         msg\u001B[38;5;241m.\u001B[39mformat(arguments\u001B[38;5;241m=\u001B[39marguments),\n\u001B[0;32m    308\u001B[0m         \u001B[38;5;167;01mFutureWarning\u001B[39;00m,\n\u001B[0;32m    309\u001B[0m         stacklevel\u001B[38;5;241m=\u001B[39mstacklevel,\n\u001B[0;32m    310\u001B[0m     )\n\u001B[1;32m--> 311\u001B[0m \u001B[38;5;28;01mreturn\u001B[39;00m func(\u001B[38;5;241m*\u001B[39margs, \u001B[38;5;241m*\u001B[39m\u001B[38;5;241m*\u001B[39mkwargs)\n",
      "File \u001B[1;32mD:\\Programmeringssprok\\Pyhton\\militaryMeasurement\\venv\\lib\\site-packages\\pandas\\core\\frame.py:4948\u001B[0m, in \u001B[0;36mDataFrame.drop\u001B[1;34m(self, labels, axis, index, columns, level, inplace, errors)\u001B[0m\n\u001B[0;32m   4800\u001B[0m \u001B[38;5;129m@deprecate_nonkeyword_arguments\u001B[39m(version\u001B[38;5;241m=\u001B[39m\u001B[38;5;28;01mNone\u001B[39;00m, allowed_args\u001B[38;5;241m=\u001B[39m[\u001B[38;5;124m\"\u001B[39m\u001B[38;5;124mself\u001B[39m\u001B[38;5;124m\"\u001B[39m, \u001B[38;5;124m\"\u001B[39m\u001B[38;5;124mlabels\u001B[39m\u001B[38;5;124m\"\u001B[39m])\n\u001B[0;32m   4801\u001B[0m \u001B[38;5;28;01mdef\u001B[39;00m \u001B[38;5;21mdrop\u001B[39m(\n\u001B[0;32m   4802\u001B[0m     \u001B[38;5;28mself\u001B[39m,\n\u001B[1;32m   (...)\u001B[0m\n\u001B[0;32m   4809\u001B[0m     errors: \u001B[38;5;28mstr\u001B[39m \u001B[38;5;241m=\u001B[39m \u001B[38;5;124m\"\u001B[39m\u001B[38;5;124mraise\u001B[39m\u001B[38;5;124m\"\u001B[39m,\n\u001B[0;32m   4810\u001B[0m ):\n\u001B[0;32m   4811\u001B[0m     \u001B[38;5;124;03m\"\"\"\u001B[39;00m\n\u001B[0;32m   4812\u001B[0m \u001B[38;5;124;03m    Drop specified labels from rows or columns.\u001B[39;00m\n\u001B[0;32m   4813\u001B[0m \n\u001B[1;32m   (...)\u001B[0m\n\u001B[0;32m   4946\u001B[0m \u001B[38;5;124;03m            weight  1.0     0.8\u001B[39;00m\n\u001B[0;32m   4947\u001B[0m \u001B[38;5;124;03m    \"\"\"\u001B[39;00m\n\u001B[1;32m-> 4948\u001B[0m     \u001B[38;5;28;01mreturn\u001B[39;00m \u001B[38;5;28;43msuper\u001B[39;49m\u001B[43m(\u001B[49m\u001B[43m)\u001B[49m\u001B[38;5;241;43m.\u001B[39;49m\u001B[43mdrop\u001B[49m\u001B[43m(\u001B[49m\n\u001B[0;32m   4949\u001B[0m \u001B[43m        \u001B[49m\u001B[43mlabels\u001B[49m\u001B[38;5;241;43m=\u001B[39;49m\u001B[43mlabels\u001B[49m\u001B[43m,\u001B[49m\n\u001B[0;32m   4950\u001B[0m \u001B[43m        \u001B[49m\u001B[43maxis\u001B[49m\u001B[38;5;241;43m=\u001B[39;49m\u001B[43maxis\u001B[49m\u001B[43m,\u001B[49m\n\u001B[0;32m   4951\u001B[0m \u001B[43m        \u001B[49m\u001B[43mindex\u001B[49m\u001B[38;5;241;43m=\u001B[39;49m\u001B[43mindex\u001B[49m\u001B[43m,\u001B[49m\n\u001B[0;32m   4952\u001B[0m \u001B[43m        \u001B[49m\u001B[43mcolumns\u001B[49m\u001B[38;5;241;43m=\u001B[39;49m\u001B[43mcolumns\u001B[49m\u001B[43m,\u001B[49m\n\u001B[0;32m   4953\u001B[0m \u001B[43m        \u001B[49m\u001B[43mlevel\u001B[49m\u001B[38;5;241;43m=\u001B[39;49m\u001B[43mlevel\u001B[49m\u001B[43m,\u001B[49m\n\u001B[0;32m   4954\u001B[0m \u001B[43m        \u001B[49m\u001B[43minplace\u001B[49m\u001B[38;5;241;43m=\u001B[39;49m\u001B[43minplace\u001B[49m\u001B[43m,\u001B[49m\n\u001B[0;32m   4955\u001B[0m \u001B[43m        \u001B[49m\u001B[43merrors\u001B[49m\u001B[38;5;241;43m=\u001B[39;49m\u001B[43merrors\u001B[49m\u001B[43m,\u001B[49m\n\u001B[0;32m   4956\u001B[0m \u001B[43m    \u001B[49m\u001B[43m)\u001B[49m\n",
      "File \u001B[1;32mD:\\Programmeringssprok\\Pyhton\\militaryMeasurement\\venv\\lib\\site-packages\\pandas\\core\\generic.py:4279\u001B[0m, in \u001B[0;36mNDFrame.drop\u001B[1;34m(self, labels, axis, index, columns, level, inplace, errors)\u001B[0m\n\u001B[0;32m   4277\u001B[0m \u001B[38;5;28;01mfor\u001B[39;00m axis, labels \u001B[38;5;129;01min\u001B[39;00m axes\u001B[38;5;241m.\u001B[39mitems():\n\u001B[0;32m   4278\u001B[0m     \u001B[38;5;28;01mif\u001B[39;00m labels \u001B[38;5;129;01mis\u001B[39;00m \u001B[38;5;129;01mnot\u001B[39;00m \u001B[38;5;28;01mNone\u001B[39;00m:\n\u001B[1;32m-> 4279\u001B[0m         obj \u001B[38;5;241m=\u001B[39m \u001B[43mobj\u001B[49m\u001B[38;5;241;43m.\u001B[39;49m\u001B[43m_drop_axis\u001B[49m\u001B[43m(\u001B[49m\u001B[43mlabels\u001B[49m\u001B[43m,\u001B[49m\u001B[43m \u001B[49m\u001B[43maxis\u001B[49m\u001B[43m,\u001B[49m\u001B[43m \u001B[49m\u001B[43mlevel\u001B[49m\u001B[38;5;241;43m=\u001B[39;49m\u001B[43mlevel\u001B[49m\u001B[43m,\u001B[49m\u001B[43m \u001B[49m\u001B[43merrors\u001B[49m\u001B[38;5;241;43m=\u001B[39;49m\u001B[43merrors\u001B[49m\u001B[43m)\u001B[49m\n\u001B[0;32m   4281\u001B[0m \u001B[38;5;28;01mif\u001B[39;00m inplace:\n\u001B[0;32m   4282\u001B[0m     \u001B[38;5;28mself\u001B[39m\u001B[38;5;241m.\u001B[39m_update_inplace(obj)\n",
      "File \u001B[1;32mD:\\Programmeringssprok\\Pyhton\\militaryMeasurement\\venv\\lib\\site-packages\\pandas\\core\\generic.py:4323\u001B[0m, in \u001B[0;36mNDFrame._drop_axis\u001B[1;34m(self, labels, axis, level, errors, consolidate, only_slice)\u001B[0m\n\u001B[0;32m   4321\u001B[0m         new_axis \u001B[38;5;241m=\u001B[39m axis\u001B[38;5;241m.\u001B[39mdrop(labels, level\u001B[38;5;241m=\u001B[39mlevel, errors\u001B[38;5;241m=\u001B[39merrors)\n\u001B[0;32m   4322\u001B[0m     \u001B[38;5;28;01melse\u001B[39;00m:\n\u001B[1;32m-> 4323\u001B[0m         new_axis \u001B[38;5;241m=\u001B[39m \u001B[43maxis\u001B[49m\u001B[38;5;241;43m.\u001B[39;49m\u001B[43mdrop\u001B[49m\u001B[43m(\u001B[49m\u001B[43mlabels\u001B[49m\u001B[43m,\u001B[49m\u001B[43m \u001B[49m\u001B[43merrors\u001B[49m\u001B[38;5;241;43m=\u001B[39;49m\u001B[43merrors\u001B[49m\u001B[43m)\u001B[49m\n\u001B[0;32m   4324\u001B[0m     indexer \u001B[38;5;241m=\u001B[39m axis\u001B[38;5;241m.\u001B[39mget_indexer(new_axis)\n\u001B[0;32m   4326\u001B[0m \u001B[38;5;66;03m# Case for non-unique axis\u001B[39;00m\n\u001B[0;32m   4327\u001B[0m \u001B[38;5;28;01melse\u001B[39;00m:\n",
      "File \u001B[1;32mD:\\Programmeringssprok\\Pyhton\\militaryMeasurement\\venv\\lib\\site-packages\\pandas\\core\\indexes\\base.py:6644\u001B[0m, in \u001B[0;36mIndex.drop\u001B[1;34m(self, labels, errors)\u001B[0m\n\u001B[0;32m   6642\u001B[0m \u001B[38;5;28;01mif\u001B[39;00m mask\u001B[38;5;241m.\u001B[39many():\n\u001B[0;32m   6643\u001B[0m     \u001B[38;5;28;01mif\u001B[39;00m errors \u001B[38;5;241m!=\u001B[39m \u001B[38;5;124m\"\u001B[39m\u001B[38;5;124mignore\u001B[39m\u001B[38;5;124m\"\u001B[39m:\n\u001B[1;32m-> 6644\u001B[0m         \u001B[38;5;28;01mraise\u001B[39;00m \u001B[38;5;167;01mKeyError\u001B[39;00m(\u001B[38;5;124mf\u001B[39m\u001B[38;5;124m\"\u001B[39m\u001B[38;5;132;01m{\u001B[39;00m\u001B[38;5;28mlist\u001B[39m(labels[mask])\u001B[38;5;132;01m}\u001B[39;00m\u001B[38;5;124m not found in axis\u001B[39m\u001B[38;5;124m\"\u001B[39m)\n\u001B[0;32m   6645\u001B[0m     indexer \u001B[38;5;241m=\u001B[39m indexer[\u001B[38;5;241m~\u001B[39mmask]\n\u001B[0;32m   6646\u001B[0m \u001B[38;5;28;01mreturn\u001B[39;00m \u001B[38;5;28mself\u001B[39m\u001B[38;5;241m.\u001B[39mdelete(indexer)\n",
      "\u001B[1;31mKeyError\u001B[0m: \"['T shirt size'] not found in axis\""
     ]
    }
   ],
   "source": [
    "male_tshirt_size.drop([\"Unnamed: 0\", \"Unnamed: 0.1\", \"T shirt size\"], axis=1)"
   ],
   "metadata": {
    "collapsed": false,
    "pycharm": {
     "name": "#%%\n"
    }
   }
  },
  {
   "cell_type": "code",
   "execution_count": null,
   "outputs": [],
   "source": [
    "male_tshirt_size.head()"
   ],
   "metadata": {
    "collapsed": false,
    "pycharm": {
     "name": "#%%\n"
    }
   }
  },
  {
   "cell_type": "code",
   "execution_count": null,
   "outputs": [],
   "source": [
    "male_tshirt_size.to_csv('male_tshirt_size_added')"
   ],
   "metadata": {
    "collapsed": false,
    "pycharm": {
     "name": "#%%\n"
    }
   }
  },
  {
   "cell_type": "code",
   "execution_count": null,
   "outputs": [],
   "source": [
    "male_pants = pd.read_csv('male_tshirt_size_added')\n",
    "male_pants.insert(8,column=\"Pants size (waistcircum,buttock,crotchheight)\", value=\"-\")\n",
    "male_pants.head()"
   ],
   "metadata": {
    "collapsed": false,
    "pycharm": {
     "name": "#%%\n"
    }
   }
  },
  {
   "cell_type": "code",
   "execution_count": null,
   "outputs": [],
   "source": [
    "male_pants.to_csv('male_pants_size')"
   ],
   "metadata": {
    "collapsed": false,
    "pycharm": {
     "name": "#%%\n"
    }
   }
  },
  {
   "cell_type": "code",
   "execution_count": null,
   "outputs": [],
   "source": [
    "male_pants_size = pd.read_csv('male_pants_size')"
   ],
   "metadata": {
    "collapsed": false,
    "pycharm": {
     "name": "#%%\n"
    }
   }
  },
  {
   "cell_type": "code",
   "execution_count": null,
   "outputs": [],
   "source": [
    "male_pants_size.head(100)"
   ],
   "metadata": {
    "collapsed": false,
    "pycharm": {
     "name": "#%%\n"
    }
   }
  },
  {
   "cell_type": "code",
   "execution_count": null,
   "outputs": [],
   "source": [
    "size_pants = []\n",
    "for waist_pants, crotch in zip(male_pants_size['waistcircumference'], male_pants_size['crotchheight']):\n",
    "    if waist_pants < 86:\n",
    "            if crotch >= 77:\n",
    "                size_pants.append('Medium')\n",
    "            else:\n",
    "                size_pants.append('Small')\n",
    "    elif waist_pants < 91:\n",
    "            if crotch >= 79:\n",
    "                size_pants.append('Large')\n",
    "            else:\n",
    "                size_pants.append('Medium')\n",
    "    elif waist_pants < 96:\n",
    "            if crotch >= 82:\n",
    "                size_pants.append('X-L')\n",
    "            else:\n",
    "                size_pants.append('Large')\n",
    "    elif waist_pants < 101:\n",
    "            if crotch >= 84:\n",
    "                size_pants.append('XX-L')\n",
    "            else:\n",
    "                size_pants.append('X-L')\n",
    "    elif waist_pants < 107:\n",
    "        if crotch >= 86:\n",
    "            size_pants.append('XX-L')\n",
    "        else:\n",
    "            size_pants.append('X-L')\n",
    "    elif waist_pants < 118:\n",
    "        if crotch > 86:\n",
    "            size_pants.append('XXX_L')\n",
    "        else:\n",
    "            size_pants.append('XX-L')\n",
    "    elif waist_pants >= 118:\n",
    "        size_pants.append('XXXX-L')\n",
    "\n",
    "\n",
    "male_pants_size['Pants size (waistcircum,crotchheight)'] = size_pants\n",
    "male_pants_size.head()"
   ],
   "metadata": {
    "collapsed": false,
    "pycharm": {
     "name": "#%%\n"
    }
   }
  },
  {
   "cell_type": "code",
   "execution_count": null,
   "outputs": [],
   "source": [
    "male_pants_size.head()"
   ],
   "metadata": {
    "collapsed": false,
    "pycharm": {
     "name": "#%%\n"
    }
   }
  },
  {
   "cell_type": "code",
   "execution_count": null,
   "outputs": [],
   "source": [
    "male_pants_size.drop([\"Unnamed: 0\", \"Unnamed: 0.1\", \"Unnamed: 0.2\", \"Unnamed: 0.3\", \"Pants size (waistcircum,buttock,crotchheight)\"], axis=1, inplace=True)"
   ],
   "metadata": {
    "collapsed": false,
    "pycharm": {
     "name": "#%%\n"
    }
   }
  },
  {
   "cell_type": "code",
   "execution_count": null,
   "outputs": [],
   "source": [
    "male_pants_size.drop(\"subjectid\", axis=1, inplace=True)"
   ],
   "metadata": {
    "collapsed": false,
    "pycharm": {
     "name": "#%%\n"
    }
   }
  },
  {
   "cell_type": "code",
   "execution_count": null,
   "outputs": [],
   "source": [
    "male_pants_size.drop(['chestcircumference', 'waistcircumference', 'buttockcircumference', 'crotchheight'], axis=1, inplace=True)"
   ],
   "metadata": {
    "collapsed": false,
    "pycharm": {
     "name": "#%%\n"
    }
   }
  },
  {
   "cell_type": "code",
   "execution_count": null,
   "outputs": [],
   "source": [
    "male_pants_size"
   ],
   "metadata": {
    "collapsed": false,
    "pycharm": {
     "name": "#%%\n"
    }
   }
  },
  {
   "cell_type": "code",
   "execution_count": 62,
   "outputs": [
    {
     "name": "stdout",
     "output_type": "stream",
     "text": [
      "     T Shirt size(chest,waistcircum)  weightkg  stature  \\\n",
      "0                              Large      81.5    177.6   \n",
      "1                              Large      72.6    170.2   \n",
      "2                                X-L      92.9    173.5   \n",
      "3                              Large      79.4    165.5   \n",
      "4                              Large      94.6    191.4   \n",
      "...                              ...       ...      ...   \n",
      "4077                          Medium      67.5    168.8   \n",
      "4078                             X-L      89.6    176.5   \n",
      "4079                             X-L      83.2    169.0   \n",
      "4080                          Medium      73.1    171.8   \n",
      "4081                            XX-L      98.5    182.8   \n",
      "\n",
      "     Pants size (waistcircum,crotchheight)  \n",
      "0                                      X-L  \n",
      "1                                    Large  \n",
      "2                                     XX-L  \n",
      "3                                    Small  \n",
      "4                                    Large  \n",
      "...                                    ...  \n",
      "4077                                Medium  \n",
      "4078                                  XX-L  \n",
      "4079                                   X-L  \n",
      "4080                                Medium  \n",
      "4081                                 XXX_L  \n",
      "\n",
      "[4082 rows x 4 columns]\n"
     ]
    },
    {
     "data": {
      "text/plain": "     T Shirt size(chest,waistcircum)  weightkg  stature  \\\n0                              Large      81.5    177.6   \n1                              Large      72.6    170.2   \n2                                X-L      92.9    173.5   \n3                              Large      79.4    165.5   \n4                              Large      94.6    191.4   \n...                              ...       ...      ...   \n4077                          Medium      67.5    168.8   \n4078                             X-L      89.6    176.5   \n4079                             X-L      83.2    169.0   \n4080                          Medium      73.1    171.8   \n4081                            XX-L      98.5    182.8   \n\n     Pants size (waistcircum,crotchheight)  \n0                                      X-L  \n1                                    Large  \n2                                     XX-L  \n3                                    Small  \n4                                    Large  \n...                                    ...  \n4077                                Medium  \n4078                                  XX-L  \n4079                                   X-L  \n4080                                Medium  \n4081                                 XXX_L  \n\n[4082 rows x 4 columns]",
      "text/html": "<div>\n<style scoped>\n    .dataframe tbody tr th:only-of-type {\n        vertical-align: middle;\n    }\n\n    .dataframe tbody tr th {\n        vertical-align: top;\n    }\n\n    .dataframe thead th {\n        text-align: right;\n    }\n</style>\n<table border=\"1\" class=\"dataframe\">\n  <thead>\n    <tr style=\"text-align: right;\">\n      <th></th>\n      <th>T Shirt size(chest,waistcircum)</th>\n      <th>weightkg</th>\n      <th>stature</th>\n      <th>Pants size (waistcircum,crotchheight)</th>\n    </tr>\n  </thead>\n  <tbody>\n    <tr>\n      <th>0</th>\n      <td>Large</td>\n      <td>81.5</td>\n      <td>177.6</td>\n      <td>X-L</td>\n    </tr>\n    <tr>\n      <th>1</th>\n      <td>Large</td>\n      <td>72.6</td>\n      <td>170.2</td>\n      <td>Large</td>\n    </tr>\n    <tr>\n      <th>2</th>\n      <td>X-L</td>\n      <td>92.9</td>\n      <td>173.5</td>\n      <td>XX-L</td>\n    </tr>\n    <tr>\n      <th>3</th>\n      <td>Large</td>\n      <td>79.4</td>\n      <td>165.5</td>\n      <td>Small</td>\n    </tr>\n    <tr>\n      <th>4</th>\n      <td>Large</td>\n      <td>94.6</td>\n      <td>191.4</td>\n      <td>Large</td>\n    </tr>\n    <tr>\n      <th>...</th>\n      <td>...</td>\n      <td>...</td>\n      <td>...</td>\n      <td>...</td>\n    </tr>\n    <tr>\n      <th>4077</th>\n      <td>Medium</td>\n      <td>67.5</td>\n      <td>168.8</td>\n      <td>Medium</td>\n    </tr>\n    <tr>\n      <th>4078</th>\n      <td>X-L</td>\n      <td>89.6</td>\n      <td>176.5</td>\n      <td>XX-L</td>\n    </tr>\n    <tr>\n      <th>4079</th>\n      <td>X-L</td>\n      <td>83.2</td>\n      <td>169.0</td>\n      <td>X-L</td>\n    </tr>\n    <tr>\n      <th>4080</th>\n      <td>Medium</td>\n      <td>73.1</td>\n      <td>171.8</td>\n      <td>Medium</td>\n    </tr>\n    <tr>\n      <th>4081</th>\n      <td>XX-L</td>\n      <td>98.5</td>\n      <td>182.8</td>\n      <td>XXX_L</td>\n    </tr>\n  </tbody>\n</table>\n<p>4082 rows × 4 columns</p>\n</div>"
     },
     "execution_count": 62,
     "metadata": {},
     "output_type": "execute_result"
    }
   ],
   "source": [
    "def swap_columns(male_pants_size, col1, col2):\n",
    "    col_list = list(male_pants_size.columns)\n",
    "    x, y = col_list.index(col1), col_list.index(col2)\n",
    "    col_list[y], col_list[x] = col_list[x], col_list[y]\n",
    "    male_pants_size = male_pants_size[col_list]\n",
    "    return male_pants_size\n",
    "\n",
    "male_pants_size = swap_columns(male_pants_size, 'stature', 'Pants size (waistcircum,crotchheight)')\n",
    "print(male_pants_size)\n",
    "male_pants_size"
   ],
   "metadata": {
    "collapsed": false,
    "pycharm": {
     "name": "#%%\n"
    }
   }
  },
  {
   "cell_type": "markdown",
   "source": [],
   "metadata": {
    "collapsed": false,
    "pycharm": {
     "name": "#%% md\n"
    }
   }
  },
  {
   "cell_type": "code",
   "execution_count": 61,
   "outputs": [
    {
     "data": {
      "text/plain": "     T Shirt size(chest,waistcircum)  weightkg  \\\n0                              Large      81.5   \n1                              Large      72.6   \n2                                X-L      92.9   \n3                              Large      79.4   \n4                              Large      94.6   \n...                              ...       ...   \n4077                          Medium      67.5   \n4078                             X-L      89.6   \n4079                             X-L      83.2   \n4080                          Medium      73.1   \n4081                            XX-L      98.5   \n\n     Pants size (waistcircum,crotchheight)  stature  \n0                                      X-L    177.6  \n1                                    Large    170.2  \n2                                     XX-L    173.5  \n3                                    Small    165.5  \n4                                    Large    191.4  \n...                                    ...      ...  \n4077                                Medium    168.8  \n4078                                  XX-L    176.5  \n4079                                   X-L    169.0  \n4080                                Medium    171.8  \n4081                                 XXX_L    182.8  \n\n[4082 rows x 4 columns]",
      "text/html": "<div>\n<style scoped>\n    .dataframe tbody tr th:only-of-type {\n        vertical-align: middle;\n    }\n\n    .dataframe tbody tr th {\n        vertical-align: top;\n    }\n\n    .dataframe thead th {\n        text-align: right;\n    }\n</style>\n<table border=\"1\" class=\"dataframe\">\n  <thead>\n    <tr style=\"text-align: right;\">\n      <th></th>\n      <th>T Shirt size(chest,waistcircum)</th>\n      <th>weightkg</th>\n      <th>Pants size (waistcircum,crotchheight)</th>\n      <th>stature</th>\n    </tr>\n  </thead>\n  <tbody>\n    <tr>\n      <th>0</th>\n      <td>Large</td>\n      <td>81.5</td>\n      <td>X-L</td>\n      <td>177.6</td>\n    </tr>\n    <tr>\n      <th>1</th>\n      <td>Large</td>\n      <td>72.6</td>\n      <td>Large</td>\n      <td>170.2</td>\n    </tr>\n    <tr>\n      <th>2</th>\n      <td>X-L</td>\n      <td>92.9</td>\n      <td>XX-L</td>\n      <td>173.5</td>\n    </tr>\n    <tr>\n      <th>3</th>\n      <td>Large</td>\n      <td>79.4</td>\n      <td>Small</td>\n      <td>165.5</td>\n    </tr>\n    <tr>\n      <th>4</th>\n      <td>Large</td>\n      <td>94.6</td>\n      <td>Large</td>\n      <td>191.4</td>\n    </tr>\n    <tr>\n      <th>...</th>\n      <td>...</td>\n      <td>...</td>\n      <td>...</td>\n      <td>...</td>\n    </tr>\n    <tr>\n      <th>4077</th>\n      <td>Medium</td>\n      <td>67.5</td>\n      <td>Medium</td>\n      <td>168.8</td>\n    </tr>\n    <tr>\n      <th>4078</th>\n      <td>X-L</td>\n      <td>89.6</td>\n      <td>XX-L</td>\n      <td>176.5</td>\n    </tr>\n    <tr>\n      <th>4079</th>\n      <td>X-L</td>\n      <td>83.2</td>\n      <td>X-L</td>\n      <td>169.0</td>\n    </tr>\n    <tr>\n      <th>4080</th>\n      <td>Medium</td>\n      <td>73.1</td>\n      <td>Medium</td>\n      <td>171.8</td>\n    </tr>\n    <tr>\n      <th>4081</th>\n      <td>XX-L</td>\n      <td>98.5</td>\n      <td>XXX_L</td>\n      <td>182.8</td>\n    </tr>\n  </tbody>\n</table>\n<p>4082 rows × 4 columns</p>\n</div>"
     },
     "execution_count": 61,
     "metadata": {},
     "output_type": "execute_result"
    }
   ],
   "source": [
    "male_pants_size"
   ],
   "metadata": {
    "collapsed": false,
    "pycharm": {
     "name": "#%%\n"
    }
   }
  },
  {
   "cell_type": "code",
   "execution_count": 63,
   "outputs": [
    {
     "name": "stdout",
     "output_type": "stream",
     "text": [
      "     T Shirt size(chest,waistcircum) Pants size (waistcircum,crotchheight)  \\\n",
      "0                              Large                                   X-L   \n",
      "1                              Large                                 Large   \n",
      "2                                X-L                                  XX-L   \n",
      "3                              Large                                 Small   \n",
      "4                              Large                                 Large   \n",
      "...                              ...                                   ...   \n",
      "4077                          Medium                                Medium   \n",
      "4078                             X-L                                  XX-L   \n",
      "4079                             X-L                                   X-L   \n",
      "4080                          Medium                                Medium   \n",
      "4081                            XX-L                                 XXX_L   \n",
      "\n",
      "      stature  weightkg  \n",
      "0       177.6      81.5  \n",
      "1       170.2      72.6  \n",
      "2       173.5      92.9  \n",
      "3       165.5      79.4  \n",
      "4       191.4      94.6  \n",
      "...       ...       ...  \n",
      "4077    168.8      67.5  \n",
      "4078    176.5      89.6  \n",
      "4079    169.0      83.2  \n",
      "4080    171.8      73.1  \n",
      "4081    182.8      98.5  \n",
      "\n",
      "[4082 rows x 4 columns]\n"
     ]
    },
    {
     "data": {
      "text/plain": "     T Shirt size(chest,waistcircum) Pants size (waistcircum,crotchheight)  \\\n0                              Large                                   X-L   \n1                              Large                                 Large   \n2                                X-L                                  XX-L   \n3                              Large                                 Small   \n4                              Large                                 Large   \n...                              ...                                   ...   \n4077                          Medium                                Medium   \n4078                             X-L                                  XX-L   \n4079                             X-L                                   X-L   \n4080                          Medium                                Medium   \n4081                            XX-L                                 XXX_L   \n\n      stature  weightkg  \n0       177.6      81.5  \n1       170.2      72.6  \n2       173.5      92.9  \n3       165.5      79.4  \n4       191.4      94.6  \n...       ...       ...  \n4077    168.8      67.5  \n4078    176.5      89.6  \n4079    169.0      83.2  \n4080    171.8      73.1  \n4081    182.8      98.5  \n\n[4082 rows x 4 columns]",
      "text/html": "<div>\n<style scoped>\n    .dataframe tbody tr th:only-of-type {\n        vertical-align: middle;\n    }\n\n    .dataframe tbody tr th {\n        vertical-align: top;\n    }\n\n    .dataframe thead th {\n        text-align: right;\n    }\n</style>\n<table border=\"1\" class=\"dataframe\">\n  <thead>\n    <tr style=\"text-align: right;\">\n      <th></th>\n      <th>T Shirt size(chest,waistcircum)</th>\n      <th>Pants size (waistcircum,crotchheight)</th>\n      <th>stature</th>\n      <th>weightkg</th>\n    </tr>\n  </thead>\n  <tbody>\n    <tr>\n      <th>0</th>\n      <td>Large</td>\n      <td>X-L</td>\n      <td>177.6</td>\n      <td>81.5</td>\n    </tr>\n    <tr>\n      <th>1</th>\n      <td>Large</td>\n      <td>Large</td>\n      <td>170.2</td>\n      <td>72.6</td>\n    </tr>\n    <tr>\n      <th>2</th>\n      <td>X-L</td>\n      <td>XX-L</td>\n      <td>173.5</td>\n      <td>92.9</td>\n    </tr>\n    <tr>\n      <th>3</th>\n      <td>Large</td>\n      <td>Small</td>\n      <td>165.5</td>\n      <td>79.4</td>\n    </tr>\n    <tr>\n      <th>4</th>\n      <td>Large</td>\n      <td>Large</td>\n      <td>191.4</td>\n      <td>94.6</td>\n    </tr>\n    <tr>\n      <th>...</th>\n      <td>...</td>\n      <td>...</td>\n      <td>...</td>\n      <td>...</td>\n    </tr>\n    <tr>\n      <th>4077</th>\n      <td>Medium</td>\n      <td>Medium</td>\n      <td>168.8</td>\n      <td>67.5</td>\n    </tr>\n    <tr>\n      <th>4078</th>\n      <td>X-L</td>\n      <td>XX-L</td>\n      <td>176.5</td>\n      <td>89.6</td>\n    </tr>\n    <tr>\n      <th>4079</th>\n      <td>X-L</td>\n      <td>X-L</td>\n      <td>169.0</td>\n      <td>83.2</td>\n    </tr>\n    <tr>\n      <th>4080</th>\n      <td>Medium</td>\n      <td>Medium</td>\n      <td>171.8</td>\n      <td>73.1</td>\n    </tr>\n    <tr>\n      <th>4081</th>\n      <td>XX-L</td>\n      <td>XXX_L</td>\n      <td>182.8</td>\n      <td>98.5</td>\n    </tr>\n  </tbody>\n</table>\n<p>4082 rows × 4 columns</p>\n</div>"
     },
     "execution_count": 63,
     "metadata": {},
     "output_type": "execute_result"
    }
   ],
   "source": [
    "def swap_columns(male_pants_size, col1, col2):\n",
    "    col_list = list(male_pants_size.columns)\n",
    "    x, y = col_list.index(col1), col_list.index(col2)\n",
    "    col_list[y], col_list[x] = col_list[x], col_list[y]\n",
    "    male_pants_size = male_pants_size[col_list]\n",
    "    return male_pants_size\n",
    "\n",
    "male_pants_size = swap_columns(male_pants_size, 'weightkg', 'Pants size (waistcircum,crotchheight)')\n",
    "print(male_pants_size)\n",
    "male_pants_size"
   ],
   "metadata": {
    "collapsed": false,
    "pycharm": {
     "name": "#%%\n"
    }
   }
  },
  {
   "cell_type": "code",
   "execution_count": 64,
   "outputs": [],
   "source": [
    "male_pants_size.to_csv('male_completed')"
   ],
   "metadata": {
    "collapsed": false,
    "pycharm": {
     "name": "#%%\n"
    }
   }
  },
  {
   "cell_type": "code",
   "execution_count": null,
   "outputs": [],
   "source": [],
   "metadata": {
    "collapsed": false,
    "pycharm": {
     "name": "#%%\n"
    }
   }
  }
 ],
 "metadata": {
  "kernelspec": {
   "display_name": "Python 3",
   "language": "python",
   "name": "python3"
  },
  "language_info": {
   "codemirror_mode": {
    "name": "ipython",
    "version": 2
   },
   "file_extension": ".py",
   "mimetype": "text/x-python",
   "name": "python",
   "nbconvert_exporter": "python",
   "pygments_lexer": "ipython2",
   "version": "2.7.6"
  }
 },
 "nbformat": 4,
 "nbformat_minor": 0
}