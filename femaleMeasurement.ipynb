{
 "cells": [
  {
   "cell_type": "code",
   "execution_count": 2,
   "metadata": {
    "collapsed": true
   },
   "outputs": [],
   "source": [
    "import pandas as pd"
   ]
  },
  {
   "cell_type": "code",
   "execution_count": 3,
   "outputs": [],
   "source": [
    "female_df = pd.read_csv('female.csv')"
   ],
   "metadata": {
    "collapsed": false,
    "pycharm": {
     "name": "#%%\n"
    }
   }
  },
  {
   "cell_type": "code",
   "execution_count": 4,
   "outputs": [
    {
     "data": {
      "text/plain": "    SubjectId  abdominalextensiondepthsitting  acromialheight  \\\n0       10037                             231            1282   \n1       10038                             194            1379   \n2       10042                             183            1369   \n3       10043                             261            1356   \n4       10051                             309            1303   \n..        ...                             ...             ...   \n95      13027                             257            1233   \n96      13036                             236            1206   \n97      13064                             269            1354   \n98      13141                             209            1318   \n99      13144                             183            1273   \n\n    acromionradialelength  anklecircumference  axillaheight  \\\n0                     301                 204          1180   \n1                     320                 207          1292   \n2                     329                 233          1271   \n3                     306                 214          1250   \n4                     308                 214          1210   \n..                    ...                 ...           ...   \n95                    274                 190          1124   \n96                    277                 207          1098   \n97                    321                 233          1241   \n98                    304                 225          1213   \n99                    281                 203          1183   \n\n    balloffootcircumference  balloffootlength  biacromialbreadth  \\\n0                       222               177                373   \n1                       225               178                372   \n2                       237               196                397   \n3                       240               188                384   \n4                       217               182                378   \n..                      ...               ...                ...   \n95                      215               160                356   \n96                      222               177                350   \n97                      230               185                373   \n98                      229               173                379   \n99                      217               173                350   \n\n    bicepscircumferenceflexed  ...                  Branch  PrimaryMOS  \\\n0                         315  ...          Combat Support         92Y   \n1                         272  ...  Combat Service Support         25U   \n2                         300  ...  Combat Service Support         35D   \n3                         364  ...  Combat Service Support         25U   \n4                         320  ...             Combat Arms         42A   \n..                        ...  ...                     ...         ...   \n95                        275  ...          Combat Support         42A   \n96                        301  ...          Combat Support         42A   \n97                        328  ...          Combat Support         46Q   \n98                        310  ...          Combat Support         68W   \n99                        265  ...  Combat Service Support         14E   \n\n    SubjectsBirthLocation  SubjectNumericRace           Ethnicity  DODRace  \\\n0                 Germany                   2                 NaN        2   \n1              California                   3             Mexican        3   \n2                   Texas                   1                 NaN        1   \n3    District of Columbia                   8  Caribbean Islander        2   \n4                   Texas                   1                 NaN        1   \n..                    ...                 ...                 ...      ...   \n95                  Texas                   3             Mexican        3   \n96            Puerto Rico                   3        Puerto Rican        3   \n97                  Texas                   1                 NaN        1   \n98             California                   1                 NaN        1   \n99                Indiana                   1                 NaN        1   \n\n    Age  Heightin  Weightlbs  WritingPreference  \n0    26        61        142         Right hand  \n1    21        64        120         Right hand  \n2    23        68        147         Right hand  \n3    22        66        175         Right hand  \n4    45        63        195         Right hand  \n..  ...       ...        ...                ...  \n95   32        60        122         Right hand  \n96   41        60        137         Right hand  \n97   40        65        160         Right hand  \n98   42        64        146          Left hand  \n99   33        62        110         Right hand  \n\n[100 rows x 108 columns]",
      "text/html": "<div>\n<style scoped>\n    .dataframe tbody tr th:only-of-type {\n        vertical-align: middle;\n    }\n\n    .dataframe tbody tr th {\n        vertical-align: top;\n    }\n\n    .dataframe thead th {\n        text-align: right;\n    }\n</style>\n<table border=\"1\" class=\"dataframe\">\n  <thead>\n    <tr style=\"text-align: right;\">\n      <th></th>\n      <th>SubjectId</th>\n      <th>abdominalextensiondepthsitting</th>\n      <th>acromialheight</th>\n      <th>acromionradialelength</th>\n      <th>anklecircumference</th>\n      <th>axillaheight</th>\n      <th>balloffootcircumference</th>\n      <th>balloffootlength</th>\n      <th>biacromialbreadth</th>\n      <th>bicepscircumferenceflexed</th>\n      <th>...</th>\n      <th>Branch</th>\n      <th>PrimaryMOS</th>\n      <th>SubjectsBirthLocation</th>\n      <th>SubjectNumericRace</th>\n      <th>Ethnicity</th>\n      <th>DODRace</th>\n      <th>Age</th>\n      <th>Heightin</th>\n      <th>Weightlbs</th>\n      <th>WritingPreference</th>\n    </tr>\n  </thead>\n  <tbody>\n    <tr>\n      <th>0</th>\n      <td>10037</td>\n      <td>231</td>\n      <td>1282</td>\n      <td>301</td>\n      <td>204</td>\n      <td>1180</td>\n      <td>222</td>\n      <td>177</td>\n      <td>373</td>\n      <td>315</td>\n      <td>...</td>\n      <td>Combat Support</td>\n      <td>92Y</td>\n      <td>Germany</td>\n      <td>2</td>\n      <td>NaN</td>\n      <td>2</td>\n      <td>26</td>\n      <td>61</td>\n      <td>142</td>\n      <td>Right hand</td>\n    </tr>\n    <tr>\n      <th>1</th>\n      <td>10038</td>\n      <td>194</td>\n      <td>1379</td>\n      <td>320</td>\n      <td>207</td>\n      <td>1292</td>\n      <td>225</td>\n      <td>178</td>\n      <td>372</td>\n      <td>272</td>\n      <td>...</td>\n      <td>Combat Service Support</td>\n      <td>25U</td>\n      <td>California</td>\n      <td>3</td>\n      <td>Mexican</td>\n      <td>3</td>\n      <td>21</td>\n      <td>64</td>\n      <td>120</td>\n      <td>Right hand</td>\n    </tr>\n    <tr>\n      <th>2</th>\n      <td>10042</td>\n      <td>183</td>\n      <td>1369</td>\n      <td>329</td>\n      <td>233</td>\n      <td>1271</td>\n      <td>237</td>\n      <td>196</td>\n      <td>397</td>\n      <td>300</td>\n      <td>...</td>\n      <td>Combat Service Support</td>\n      <td>35D</td>\n      <td>Texas</td>\n      <td>1</td>\n      <td>NaN</td>\n      <td>1</td>\n      <td>23</td>\n      <td>68</td>\n      <td>147</td>\n      <td>Right hand</td>\n    </tr>\n    <tr>\n      <th>3</th>\n      <td>10043</td>\n      <td>261</td>\n      <td>1356</td>\n      <td>306</td>\n      <td>214</td>\n      <td>1250</td>\n      <td>240</td>\n      <td>188</td>\n      <td>384</td>\n      <td>364</td>\n      <td>...</td>\n      <td>Combat Service Support</td>\n      <td>25U</td>\n      <td>District of Columbia</td>\n      <td>8</td>\n      <td>Caribbean Islander</td>\n      <td>2</td>\n      <td>22</td>\n      <td>66</td>\n      <td>175</td>\n      <td>Right hand</td>\n    </tr>\n    <tr>\n      <th>4</th>\n      <td>10051</td>\n      <td>309</td>\n      <td>1303</td>\n      <td>308</td>\n      <td>214</td>\n      <td>1210</td>\n      <td>217</td>\n      <td>182</td>\n      <td>378</td>\n      <td>320</td>\n      <td>...</td>\n      <td>Combat Arms</td>\n      <td>42A</td>\n      <td>Texas</td>\n      <td>1</td>\n      <td>NaN</td>\n      <td>1</td>\n      <td>45</td>\n      <td>63</td>\n      <td>195</td>\n      <td>Right hand</td>\n    </tr>\n    <tr>\n      <th>...</th>\n      <td>...</td>\n      <td>...</td>\n      <td>...</td>\n      <td>...</td>\n      <td>...</td>\n      <td>...</td>\n      <td>...</td>\n      <td>...</td>\n      <td>...</td>\n      <td>...</td>\n      <td>...</td>\n      <td>...</td>\n      <td>...</td>\n      <td>...</td>\n      <td>...</td>\n      <td>...</td>\n      <td>...</td>\n      <td>...</td>\n      <td>...</td>\n      <td>...</td>\n      <td>...</td>\n    </tr>\n    <tr>\n      <th>95</th>\n      <td>13027</td>\n      <td>257</td>\n      <td>1233</td>\n      <td>274</td>\n      <td>190</td>\n      <td>1124</td>\n      <td>215</td>\n      <td>160</td>\n      <td>356</td>\n      <td>275</td>\n      <td>...</td>\n      <td>Combat Support</td>\n      <td>42A</td>\n      <td>Texas</td>\n      <td>3</td>\n      <td>Mexican</td>\n      <td>3</td>\n      <td>32</td>\n      <td>60</td>\n      <td>122</td>\n      <td>Right hand</td>\n    </tr>\n    <tr>\n      <th>96</th>\n      <td>13036</td>\n      <td>236</td>\n      <td>1206</td>\n      <td>277</td>\n      <td>207</td>\n      <td>1098</td>\n      <td>222</td>\n      <td>177</td>\n      <td>350</td>\n      <td>301</td>\n      <td>...</td>\n      <td>Combat Support</td>\n      <td>42A</td>\n      <td>Puerto Rico</td>\n      <td>3</td>\n      <td>Puerto Rican</td>\n      <td>3</td>\n      <td>41</td>\n      <td>60</td>\n      <td>137</td>\n      <td>Right hand</td>\n    </tr>\n    <tr>\n      <th>97</th>\n      <td>13064</td>\n      <td>269</td>\n      <td>1354</td>\n      <td>321</td>\n      <td>233</td>\n      <td>1241</td>\n      <td>230</td>\n      <td>185</td>\n      <td>373</td>\n      <td>328</td>\n      <td>...</td>\n      <td>Combat Support</td>\n      <td>46Q</td>\n      <td>Texas</td>\n      <td>1</td>\n      <td>NaN</td>\n      <td>1</td>\n      <td>40</td>\n      <td>65</td>\n      <td>160</td>\n      <td>Right hand</td>\n    </tr>\n    <tr>\n      <th>98</th>\n      <td>13141</td>\n      <td>209</td>\n      <td>1318</td>\n      <td>304</td>\n      <td>225</td>\n      <td>1213</td>\n      <td>229</td>\n      <td>173</td>\n      <td>379</td>\n      <td>310</td>\n      <td>...</td>\n      <td>Combat Support</td>\n      <td>68W</td>\n      <td>California</td>\n      <td>1</td>\n      <td>NaN</td>\n      <td>1</td>\n      <td>42</td>\n      <td>64</td>\n      <td>146</td>\n      <td>Left hand</td>\n    </tr>\n    <tr>\n      <th>99</th>\n      <td>13144</td>\n      <td>183</td>\n      <td>1273</td>\n      <td>281</td>\n      <td>203</td>\n      <td>1183</td>\n      <td>217</td>\n      <td>173</td>\n      <td>350</td>\n      <td>265</td>\n      <td>...</td>\n      <td>Combat Service Support</td>\n      <td>14E</td>\n      <td>Indiana</td>\n      <td>1</td>\n      <td>NaN</td>\n      <td>1</td>\n      <td>33</td>\n      <td>62</td>\n      <td>110</td>\n      <td>Right hand</td>\n    </tr>\n  </tbody>\n</table>\n<p>100 rows × 108 columns</p>\n</div>"
     },
     "execution_count": 4,
     "metadata": {},
     "output_type": "execute_result"
    }
   ],
   "source": [
    "female_df.head(100)"
   ],
   "metadata": {
    "collapsed": false,
    "pycharm": {
     "name": "#%%\n"
    }
   }
  },
  {
   "cell_type": "code",
   "execution_count": 5,
   "outputs": [
    {
     "data": {
      "text/plain": "      chestcircumference  waistcircumference  crotchheight  stature  weightkg\n0                    922                 850           759     1560       657\n1                    839                 708           835     1665       534\n2                    874                 727           821     1711       663\n3                   1008                 923           804     1660       782\n4                   1089                1163           726     1572       886\n...                  ...                 ...           ...      ...       ...\n1981                1082                1043           779     1687       832\n1982                1016                 971           732     1613       717\n1983                1093                 982           793     1644       762\n1984                 922                 837           763     1616       632\n1985                 902                 891           783     1641       610\n\n[1986 rows x 5 columns]",
      "text/html": "<div>\n<style scoped>\n    .dataframe tbody tr th:only-of-type {\n        vertical-align: middle;\n    }\n\n    .dataframe tbody tr th {\n        vertical-align: top;\n    }\n\n    .dataframe thead th {\n        text-align: right;\n    }\n</style>\n<table border=\"1\" class=\"dataframe\">\n  <thead>\n    <tr style=\"text-align: right;\">\n      <th></th>\n      <th>chestcircumference</th>\n      <th>waistcircumference</th>\n      <th>crotchheight</th>\n      <th>stature</th>\n      <th>weightkg</th>\n    </tr>\n  </thead>\n  <tbody>\n    <tr>\n      <th>0</th>\n      <td>922</td>\n      <td>850</td>\n      <td>759</td>\n      <td>1560</td>\n      <td>657</td>\n    </tr>\n    <tr>\n      <th>1</th>\n      <td>839</td>\n      <td>708</td>\n      <td>835</td>\n      <td>1665</td>\n      <td>534</td>\n    </tr>\n    <tr>\n      <th>2</th>\n      <td>874</td>\n      <td>727</td>\n      <td>821</td>\n      <td>1711</td>\n      <td>663</td>\n    </tr>\n    <tr>\n      <th>3</th>\n      <td>1008</td>\n      <td>923</td>\n      <td>804</td>\n      <td>1660</td>\n      <td>782</td>\n    </tr>\n    <tr>\n      <th>4</th>\n      <td>1089</td>\n      <td>1163</td>\n      <td>726</td>\n      <td>1572</td>\n      <td>886</td>\n    </tr>\n    <tr>\n      <th>...</th>\n      <td>...</td>\n      <td>...</td>\n      <td>...</td>\n      <td>...</td>\n      <td>...</td>\n    </tr>\n    <tr>\n      <th>1981</th>\n      <td>1082</td>\n      <td>1043</td>\n      <td>779</td>\n      <td>1687</td>\n      <td>832</td>\n    </tr>\n    <tr>\n      <th>1982</th>\n      <td>1016</td>\n      <td>971</td>\n      <td>732</td>\n      <td>1613</td>\n      <td>717</td>\n    </tr>\n    <tr>\n      <th>1983</th>\n      <td>1093</td>\n      <td>982</td>\n      <td>793</td>\n      <td>1644</td>\n      <td>762</td>\n    </tr>\n    <tr>\n      <th>1984</th>\n      <td>922</td>\n      <td>837</td>\n      <td>763</td>\n      <td>1616</td>\n      <td>632</td>\n    </tr>\n    <tr>\n      <th>1985</th>\n      <td>902</td>\n      <td>891</td>\n      <td>783</td>\n      <td>1641</td>\n      <td>610</td>\n    </tr>\n  </tbody>\n</table>\n<p>1986 rows × 5 columns</p>\n</div>"
     },
     "execution_count": 5,
     "metadata": {},
     "output_type": "execute_result"
    }
   ],
   "source": [
    "female_df[['chestcircumference','waistcircumference','crotchheight', 'stature', 'weightkg']]"
   ],
   "metadata": {
    "collapsed": false,
    "pycharm": {
     "name": "#%%\n"
    }
   }
  },
  {
   "cell_type": "code",
   "execution_count": 6,
   "outputs": [
    {
     "name": "stdout",
     "output_type": "stream",
     "text": [
      "0        92.2\n",
      "1        83.9\n",
      "2        87.4\n",
      "3       100.8\n",
      "4       108.9\n",
      "        ...  \n",
      "1981    108.2\n",
      "1982    101.6\n",
      "1983    109.3\n",
      "1984     92.2\n",
      "1985     90.2\n",
      "Name: chestcircumference, Length: 1986, dtype: float64\n"
     ]
    }
   ],
   "source": [
    "col_chest = female_df['chestcircumference']/10\n",
    "print(col_chest)"
   ],
   "metadata": {
    "collapsed": false,
    "pycharm": {
     "name": "#%%\n"
    }
   }
  },
  {
   "cell_type": "code",
   "execution_count": 7,
   "outputs": [
    {
     "name": "stdout",
     "output_type": "stream",
     "text": [
      "0        85.0\n",
      "1        70.8\n",
      "2        72.7\n",
      "3        92.3\n",
      "4       116.3\n",
      "        ...  \n",
      "1981    104.3\n",
      "1982     97.1\n",
      "1983     98.2\n",
      "1984     83.7\n",
      "1985     89.1\n",
      "Name: waistcircumference, Length: 1986, dtype: float64\n"
     ]
    }
   ],
   "source": [
    "col_waist = female_df['waistcircumference']/10\n",
    "print(col_waist)"
   ],
   "metadata": {
    "collapsed": false,
    "pycharm": {
     "name": "#%%\n"
    }
   }
  },
  {
   "cell_type": "code",
   "execution_count": 8,
   "outputs": [
    {
     "name": "stdout",
     "output_type": "stream",
     "text": [
      "0       75.9\n",
      "1       83.5\n",
      "2       82.1\n",
      "3       80.4\n",
      "4       72.6\n",
      "        ... \n",
      "1981    77.9\n",
      "1982    73.2\n",
      "1983    79.3\n",
      "1984    76.3\n",
      "1985    78.3\n",
      "Name: crotchheight, Length: 1986, dtype: float64\n"
     ]
    }
   ],
   "source": [
    "col_crotch = female_df['crotchheight']/10\n",
    "print(col_crotch)"
   ],
   "metadata": {
    "collapsed": false,
    "pycharm": {
     "name": "#%%\n"
    }
   }
  },
  {
   "cell_type": "code",
   "execution_count": 9,
   "outputs": [
    {
     "name": "stdout",
     "output_type": "stream",
     "text": [
      "0       156.0\n",
      "1       166.5\n",
      "2       171.1\n",
      "3       166.0\n",
      "4       157.2\n",
      "        ...  \n",
      "1981    168.7\n",
      "1982    161.3\n",
      "1983    164.4\n",
      "1984    161.6\n",
      "1985    164.1\n",
      "Name: stature, Length: 1986, dtype: float64\n"
     ]
    }
   ],
   "source": [
    "col_statue = female_df['stature']/10\n",
    "print(col_statue)"
   ],
   "metadata": {
    "collapsed": false,
    "pycharm": {
     "name": "#%%\n"
    }
   }
  },
  {
   "cell_type": "code",
   "execution_count": 10,
   "outputs": [
    {
     "name": "stdout",
     "output_type": "stream",
     "text": [
      "0       65.7\n",
      "1       53.4\n",
      "2       66.3\n",
      "3       78.2\n",
      "4       88.6\n",
      "        ... \n",
      "1981    83.2\n",
      "1982    71.7\n",
      "1983    76.2\n",
      "1984    63.2\n",
      "1985    61.0\n",
      "Name: weightkg, Length: 1986, dtype: float64\n"
     ]
    }
   ],
   "source": [
    "col_weight = female_df['weightkg']/10\n",
    "print(col_weight)"
   ],
   "metadata": {
    "collapsed": false,
    "pycharm": {
     "name": "#%%\n"
    }
   }
  },
  {
   "cell_type": "code",
   "execution_count": 11,
   "outputs": [],
   "source": [
    "female_first = pd.concat([col_chest, col_waist, col_crotch, col_statue, col_weight],axis=1)"
   ],
   "metadata": {
    "collapsed": false,
    "pycharm": {
     "name": "#%%\n"
    }
   }
  },
  {
   "cell_type": "code",
   "execution_count": 12,
   "outputs": [],
   "source": [
    "female_first.to_csv('female_first.csv')"
   ],
   "metadata": {
    "collapsed": false,
    "pycharm": {
     "name": "#%%\n"
    }
   }
  },
  {
   "cell_type": "code",
   "execution_count": 13,
   "outputs": [
    {
     "data": {
      "text/plain": "   chestcircumference  waistcircumference  crotchheight  stature  weightkg\n0                92.2                85.0          75.9    156.0      65.7\n1                83.9                70.8          83.5    166.5      53.4\n2                87.4                72.7          82.1    171.1      66.3\n3               100.8                92.3          80.4    166.0      78.2\n4               108.9               116.3          72.6    157.2      88.6",
      "text/html": "<div>\n<style scoped>\n    .dataframe tbody tr th:only-of-type {\n        vertical-align: middle;\n    }\n\n    .dataframe tbody tr th {\n        vertical-align: top;\n    }\n\n    .dataframe thead th {\n        text-align: right;\n    }\n</style>\n<table border=\"1\" class=\"dataframe\">\n  <thead>\n    <tr style=\"text-align: right;\">\n      <th></th>\n      <th>chestcircumference</th>\n      <th>waistcircumference</th>\n      <th>crotchheight</th>\n      <th>stature</th>\n      <th>weightkg</th>\n    </tr>\n  </thead>\n  <tbody>\n    <tr>\n      <th>0</th>\n      <td>92.2</td>\n      <td>85.0</td>\n      <td>75.9</td>\n      <td>156.0</td>\n      <td>65.7</td>\n    </tr>\n    <tr>\n      <th>1</th>\n      <td>83.9</td>\n      <td>70.8</td>\n      <td>83.5</td>\n      <td>166.5</td>\n      <td>53.4</td>\n    </tr>\n    <tr>\n      <th>2</th>\n      <td>87.4</td>\n      <td>72.7</td>\n      <td>82.1</td>\n      <td>171.1</td>\n      <td>66.3</td>\n    </tr>\n    <tr>\n      <th>3</th>\n      <td>100.8</td>\n      <td>92.3</td>\n      <td>80.4</td>\n      <td>166.0</td>\n      <td>78.2</td>\n    </tr>\n    <tr>\n      <th>4</th>\n      <td>108.9</td>\n      <td>116.3</td>\n      <td>72.6</td>\n      <td>157.2</td>\n      <td>88.6</td>\n    </tr>\n  </tbody>\n</table>\n</div>"
     },
     "execution_count": 13,
     "metadata": {},
     "output_type": "execute_result"
    }
   ],
   "source": [
    "female_first.head()"
   ],
   "metadata": {
    "collapsed": false,
    "pycharm": {
     "name": "#%%\n"
    }
   }
  },
  {
   "cell_type": "code",
   "execution_count": 14,
   "outputs": [
    {
     "data": {
      "text/plain": "      Unnamed: 0  chestcircumference  waistcircumference  crotchheight  \\\n0              0                92.2                85.0          75.9   \n1              1                83.9                70.8          83.5   \n2              2                87.4                72.7          82.1   \n3              3               100.8                92.3          80.4   \n4              4               108.9               116.3          72.6   \n...          ...                 ...                 ...           ...   \n1981        1981               108.2               104.3          77.9   \n1982        1982               101.6                97.1          73.2   \n1983        1983               109.3                98.2          79.3   \n1984        1984                92.2                83.7          76.3   \n1985        1985                90.2                89.1          78.3   \n\n     T shirt size(chest,waistcircum)  stature  weightkg  \n0                                  -    156.0      65.7  \n1                                  -    166.5      53.4  \n2                                  -    171.1      66.3  \n3                                  -    166.0      78.2  \n4                                  -    157.2      88.6  \n...                              ...      ...       ...  \n1981                               -    168.7      83.2  \n1982                               -    161.3      71.7  \n1983                               -    164.4      76.2  \n1984                               -    161.6      63.2  \n1985                               -    164.1      61.0  \n\n[1986 rows x 7 columns]",
      "text/html": "<div>\n<style scoped>\n    .dataframe tbody tr th:only-of-type {\n        vertical-align: middle;\n    }\n\n    .dataframe tbody tr th {\n        vertical-align: top;\n    }\n\n    .dataframe thead th {\n        text-align: right;\n    }\n</style>\n<table border=\"1\" class=\"dataframe\">\n  <thead>\n    <tr style=\"text-align: right;\">\n      <th></th>\n      <th>Unnamed: 0</th>\n      <th>chestcircumference</th>\n      <th>waistcircumference</th>\n      <th>crotchheight</th>\n      <th>T shirt size(chest,waistcircum)</th>\n      <th>stature</th>\n      <th>weightkg</th>\n    </tr>\n  </thead>\n  <tbody>\n    <tr>\n      <th>0</th>\n      <td>0</td>\n      <td>92.2</td>\n      <td>85.0</td>\n      <td>75.9</td>\n      <td>-</td>\n      <td>156.0</td>\n      <td>65.7</td>\n    </tr>\n    <tr>\n      <th>1</th>\n      <td>1</td>\n      <td>83.9</td>\n      <td>70.8</td>\n      <td>83.5</td>\n      <td>-</td>\n      <td>166.5</td>\n      <td>53.4</td>\n    </tr>\n    <tr>\n      <th>2</th>\n      <td>2</td>\n      <td>87.4</td>\n      <td>72.7</td>\n      <td>82.1</td>\n      <td>-</td>\n      <td>171.1</td>\n      <td>66.3</td>\n    </tr>\n    <tr>\n      <th>3</th>\n      <td>3</td>\n      <td>100.8</td>\n      <td>92.3</td>\n      <td>80.4</td>\n      <td>-</td>\n      <td>166.0</td>\n      <td>78.2</td>\n    </tr>\n    <tr>\n      <th>4</th>\n      <td>4</td>\n      <td>108.9</td>\n      <td>116.3</td>\n      <td>72.6</td>\n      <td>-</td>\n      <td>157.2</td>\n      <td>88.6</td>\n    </tr>\n    <tr>\n      <th>...</th>\n      <td>...</td>\n      <td>...</td>\n      <td>...</td>\n      <td>...</td>\n      <td>...</td>\n      <td>...</td>\n      <td>...</td>\n    </tr>\n    <tr>\n      <th>1981</th>\n      <td>1981</td>\n      <td>108.2</td>\n      <td>104.3</td>\n      <td>77.9</td>\n      <td>-</td>\n      <td>168.7</td>\n      <td>83.2</td>\n    </tr>\n    <tr>\n      <th>1982</th>\n      <td>1982</td>\n      <td>101.6</td>\n      <td>97.1</td>\n      <td>73.2</td>\n      <td>-</td>\n      <td>161.3</td>\n      <td>71.7</td>\n    </tr>\n    <tr>\n      <th>1983</th>\n      <td>1983</td>\n      <td>109.3</td>\n      <td>98.2</td>\n      <td>79.3</td>\n      <td>-</td>\n      <td>164.4</td>\n      <td>76.2</td>\n    </tr>\n    <tr>\n      <th>1984</th>\n      <td>1984</td>\n      <td>92.2</td>\n      <td>83.7</td>\n      <td>76.3</td>\n      <td>-</td>\n      <td>161.6</td>\n      <td>63.2</td>\n    </tr>\n    <tr>\n      <th>1985</th>\n      <td>1985</td>\n      <td>90.2</td>\n      <td>89.1</td>\n      <td>78.3</td>\n      <td>-</td>\n      <td>164.1</td>\n      <td>61.0</td>\n    </tr>\n  </tbody>\n</table>\n<p>1986 rows × 7 columns</p>\n</div>"
     },
     "execution_count": 14,
     "metadata": {},
     "output_type": "execute_result"
    }
   ],
   "source": [
    "female_first = pd.read_csv('female_first.csv')\n",
    "female_first.insert(4, column=\"T shirt size(chest,waistcircum)\", value=\"-\")\n",
    "female_first"
   ],
   "metadata": {
    "collapsed": false,
    "pycharm": {
     "name": "#%%\n"
    }
   }
  },
  {
   "cell_type": "code",
   "execution_count": 15,
   "outputs": [
    {
     "data": {
      "text/plain": "      Unnamed: 0  chestcircumference  waistcircumference  crotchheight  \\\n0              0                92.2                85.0          75.9   \n1              1                83.9                70.8          83.5   \n2              2                87.4                72.7          82.1   \n3              3               100.8                92.3          80.4   \n4              4               108.9               116.3          72.6   \n...          ...                 ...                 ...           ...   \n1981        1981               108.2               104.3          77.9   \n1982        1982               101.6                97.1          73.2   \n1983        1983               109.3                98.2          79.3   \n1984        1984                92.2                83.7          76.3   \n1985        1985                90.2                89.1          78.3   \n\n     T shirt size(chest,waistcircum)  stature  weightkg  \n0                              Large    156.0      65.7  \n1                              Small    166.5      53.4  \n2                              Small    171.1      66.3  \n3                               XX-L    166.0      78.2  \n4                              XXX-L    157.2      88.6  \n...                              ...      ...       ...  \n1981                           XXX-L    168.7      83.2  \n1982                            XX-L    161.3      71.7  \n1983                           XXX-L    164.4      76.2  \n1984                           Large    161.6      63.2  \n1985                           Large    164.1      61.0  \n\n[1986 rows x 7 columns]",
      "text/html": "<div>\n<style scoped>\n    .dataframe tbody tr th:only-of-type {\n        vertical-align: middle;\n    }\n\n    .dataframe tbody tr th {\n        vertical-align: top;\n    }\n\n    .dataframe thead th {\n        text-align: right;\n    }\n</style>\n<table border=\"1\" class=\"dataframe\">\n  <thead>\n    <tr style=\"text-align: right;\">\n      <th></th>\n      <th>Unnamed: 0</th>\n      <th>chestcircumference</th>\n      <th>waistcircumference</th>\n      <th>crotchheight</th>\n      <th>T shirt size(chest,waistcircum)</th>\n      <th>stature</th>\n      <th>weightkg</th>\n    </tr>\n  </thead>\n  <tbody>\n    <tr>\n      <th>0</th>\n      <td>0</td>\n      <td>92.2</td>\n      <td>85.0</td>\n      <td>75.9</td>\n      <td>Large</td>\n      <td>156.0</td>\n      <td>65.7</td>\n    </tr>\n    <tr>\n      <th>1</th>\n      <td>1</td>\n      <td>83.9</td>\n      <td>70.8</td>\n      <td>83.5</td>\n      <td>Small</td>\n      <td>166.5</td>\n      <td>53.4</td>\n    </tr>\n    <tr>\n      <th>2</th>\n      <td>2</td>\n      <td>87.4</td>\n      <td>72.7</td>\n      <td>82.1</td>\n      <td>Small</td>\n      <td>171.1</td>\n      <td>66.3</td>\n    </tr>\n    <tr>\n      <th>3</th>\n      <td>3</td>\n      <td>100.8</td>\n      <td>92.3</td>\n      <td>80.4</td>\n      <td>XX-L</td>\n      <td>166.0</td>\n      <td>78.2</td>\n    </tr>\n    <tr>\n      <th>4</th>\n      <td>4</td>\n      <td>108.9</td>\n      <td>116.3</td>\n      <td>72.6</td>\n      <td>XXX-L</td>\n      <td>157.2</td>\n      <td>88.6</td>\n    </tr>\n    <tr>\n      <th>...</th>\n      <td>...</td>\n      <td>...</td>\n      <td>...</td>\n      <td>...</td>\n      <td>...</td>\n      <td>...</td>\n      <td>...</td>\n    </tr>\n    <tr>\n      <th>1981</th>\n      <td>1981</td>\n      <td>108.2</td>\n      <td>104.3</td>\n      <td>77.9</td>\n      <td>XXX-L</td>\n      <td>168.7</td>\n      <td>83.2</td>\n    </tr>\n    <tr>\n      <th>1982</th>\n      <td>1982</td>\n      <td>101.6</td>\n      <td>97.1</td>\n      <td>73.2</td>\n      <td>XX-L</td>\n      <td>161.3</td>\n      <td>71.7</td>\n    </tr>\n    <tr>\n      <th>1983</th>\n      <td>1983</td>\n      <td>109.3</td>\n      <td>98.2</td>\n      <td>79.3</td>\n      <td>XXX-L</td>\n      <td>164.4</td>\n      <td>76.2</td>\n    </tr>\n    <tr>\n      <th>1984</th>\n      <td>1984</td>\n      <td>92.2</td>\n      <td>83.7</td>\n      <td>76.3</td>\n      <td>Large</td>\n      <td>161.6</td>\n      <td>63.2</td>\n    </tr>\n    <tr>\n      <th>1985</th>\n      <td>1985</td>\n      <td>90.2</td>\n      <td>89.1</td>\n      <td>78.3</td>\n      <td>Large</td>\n      <td>164.1</td>\n      <td>61.0</td>\n    </tr>\n  </tbody>\n</table>\n<p>1986 rows × 7 columns</p>\n</div>"
     },
     "execution_count": 15,
     "metadata": {},
     "output_type": "execute_result"
    }
   ],
   "source": [
    "size = []\n",
    "for chest, waist in zip(female_first['chestcircumference'], female_first['waistcircumference']):\n",
    "    if chest < 80:\n",
    "        if waist >= 65:\n",
    "            size.append('X-S')\n",
    "        else:\n",
    "            size.append('XX-S')\n",
    "    elif chest < 85:\n",
    "        if waist >= 68:\n",
    "            size.append('Small')\n",
    "        else:\n",
    "            size.append('X-S')\n",
    "    elif chest < 89:\n",
    "        if waist >= 73:\n",
    "            size.append('Medium')\n",
    "        else:\n",
    "            size.append('Small')\n",
    "    elif chest < 94:\n",
    "        if waist >= 78:\n",
    "            size.append('Large')\n",
    "        else:\n",
    "            size.append('Medium')\n",
    "    elif chest < 99:\n",
    "        if waist >= 83:\n",
    "            size.append('X-L')\n",
    "        else:\n",
    "            size.append('Large')\n",
    "    elif chest < 104:\n",
    "        if waist >=88:\n",
    "            size.append('XX-L')\n",
    "        else:\n",
    "            size.append('X-L')\n",
    "    elif chest < 105:\n",
    "        if waist > 89:\n",
    "            size.append('X-L')\n",
    "        else:\n",
    "            size.append('XX-L')\n",
    "    elif chest >= 105:\n",
    "        size.append('XXX-L')\n",
    "\n",
    "female_first['T shirt size(chest,waistcircum)'] = size\n",
    "female_first"
   ],
   "metadata": {
    "collapsed": false,
    "pycharm": {
     "name": "#%%\n"
    }
   }
  },
  {
   "cell_type": "code",
   "execution_count": 16,
   "outputs": [
    {
     "data": {
      "text/plain": "      Unnamed: 0  chestcircumference  waistcircumference  crotchheight  \\\n0              0                92.2                85.0          75.9   \n1              1                83.9                70.8          83.5   \n2              2                87.4                72.7          82.1   \n3              3               100.8                92.3          80.4   \n4              4               108.9               116.3          72.6   \n...          ...                 ...                 ...           ...   \n1981        1981               108.2               104.3          77.9   \n1982        1982               101.6                97.1          73.2   \n1983        1983               109.3                98.2          79.3   \n1984        1984                92.2                83.7          76.3   \n1985        1985                90.2                89.1          78.3   \n\n     T shirt size(chest,waistcircum)  stature  \\\n0                              Large    156.0   \n1                              Small    166.5   \n2                              Small    171.1   \n3                               XX-L    166.0   \n4                              XXX-L    157.2   \n...                              ...      ...   \n1981                           XXX-L    168.7   \n1982                            XX-L    161.3   \n1983                           XXX-L    164.4   \n1984                           Large    161.6   \n1985                           Large    164.1   \n\n     Pants size (waistcircum, crotchheight)  weightkg  \n0                                         -      65.7  \n1                                         -      53.4  \n2                                         -      66.3  \n3                                         -      78.2  \n4                                         -      88.6  \n...                                     ...       ...  \n1981                                      -      83.2  \n1982                                      -      71.7  \n1983                                      -      76.2  \n1984                                      -      63.2  \n1985                                      -      61.0  \n\n[1986 rows x 8 columns]",
      "text/html": "<div>\n<style scoped>\n    .dataframe tbody tr th:only-of-type {\n        vertical-align: middle;\n    }\n\n    .dataframe tbody tr th {\n        vertical-align: top;\n    }\n\n    .dataframe thead th {\n        text-align: right;\n    }\n</style>\n<table border=\"1\" class=\"dataframe\">\n  <thead>\n    <tr style=\"text-align: right;\">\n      <th></th>\n      <th>Unnamed: 0</th>\n      <th>chestcircumference</th>\n      <th>waistcircumference</th>\n      <th>crotchheight</th>\n      <th>T shirt size(chest,waistcircum)</th>\n      <th>stature</th>\n      <th>Pants size (waistcircum, crotchheight)</th>\n      <th>weightkg</th>\n    </tr>\n  </thead>\n  <tbody>\n    <tr>\n      <th>0</th>\n      <td>0</td>\n      <td>92.2</td>\n      <td>85.0</td>\n      <td>75.9</td>\n      <td>Large</td>\n      <td>156.0</td>\n      <td>-</td>\n      <td>65.7</td>\n    </tr>\n    <tr>\n      <th>1</th>\n      <td>1</td>\n      <td>83.9</td>\n      <td>70.8</td>\n      <td>83.5</td>\n      <td>Small</td>\n      <td>166.5</td>\n      <td>-</td>\n      <td>53.4</td>\n    </tr>\n    <tr>\n      <th>2</th>\n      <td>2</td>\n      <td>87.4</td>\n      <td>72.7</td>\n      <td>82.1</td>\n      <td>Small</td>\n      <td>171.1</td>\n      <td>-</td>\n      <td>66.3</td>\n    </tr>\n    <tr>\n      <th>3</th>\n      <td>3</td>\n      <td>100.8</td>\n      <td>92.3</td>\n      <td>80.4</td>\n      <td>XX-L</td>\n      <td>166.0</td>\n      <td>-</td>\n      <td>78.2</td>\n    </tr>\n    <tr>\n      <th>4</th>\n      <td>4</td>\n      <td>108.9</td>\n      <td>116.3</td>\n      <td>72.6</td>\n      <td>XXX-L</td>\n      <td>157.2</td>\n      <td>-</td>\n      <td>88.6</td>\n    </tr>\n    <tr>\n      <th>...</th>\n      <td>...</td>\n      <td>...</td>\n      <td>...</td>\n      <td>...</td>\n      <td>...</td>\n      <td>...</td>\n      <td>...</td>\n      <td>...</td>\n    </tr>\n    <tr>\n      <th>1981</th>\n      <td>1981</td>\n      <td>108.2</td>\n      <td>104.3</td>\n      <td>77.9</td>\n      <td>XXX-L</td>\n      <td>168.7</td>\n      <td>-</td>\n      <td>83.2</td>\n    </tr>\n    <tr>\n      <th>1982</th>\n      <td>1982</td>\n      <td>101.6</td>\n      <td>97.1</td>\n      <td>73.2</td>\n      <td>XX-L</td>\n      <td>161.3</td>\n      <td>-</td>\n      <td>71.7</td>\n    </tr>\n    <tr>\n      <th>1983</th>\n      <td>1983</td>\n      <td>109.3</td>\n      <td>98.2</td>\n      <td>79.3</td>\n      <td>XXX-L</td>\n      <td>164.4</td>\n      <td>-</td>\n      <td>76.2</td>\n    </tr>\n    <tr>\n      <th>1984</th>\n      <td>1984</td>\n      <td>92.2</td>\n      <td>83.7</td>\n      <td>76.3</td>\n      <td>Large</td>\n      <td>161.6</td>\n      <td>-</td>\n      <td>63.2</td>\n    </tr>\n    <tr>\n      <th>1985</th>\n      <td>1985</td>\n      <td>90.2</td>\n      <td>89.1</td>\n      <td>78.3</td>\n      <td>Large</td>\n      <td>164.1</td>\n      <td>-</td>\n      <td>61.0</td>\n    </tr>\n  </tbody>\n</table>\n<p>1986 rows × 8 columns</p>\n</div>"
     },
     "execution_count": 16,
     "metadata": {},
     "output_type": "execute_result"
    }
   ],
   "source": [
    "female_first.insert(6, column=\"Pants size (waistcircum, crotchheight)\", value=\"-\")\n",
    "female_first"
   ],
   "metadata": {
    "collapsed": false,
    "pycharm": {
     "name": "#%%\n"
    }
   }
  },
  {
   "cell_type": "code",
   "execution_count": 17,
   "outputs": [
    {
     "data": {
      "text/plain": "      Unnamed: 0  chestcircumference  waistcircumference  crotchheight  \\\n0              0                92.2                85.0          75.9   \n1              1                83.9                70.8          83.5   \n2              2                87.4                72.7          82.1   \n3              3               100.8                92.3          80.4   \n4              4               108.9               116.3          72.6   \n...          ...                 ...                 ...           ...   \n1981        1981               108.2               104.3          77.9   \n1982        1982               101.6                97.1          73.2   \n1983        1983               109.3                98.2          79.3   \n1984        1984                92.2                83.7          76.3   \n1985        1985                90.2                89.1          78.3   \n\n     T shirt size(chest,waistcircum)  stature  \\\n0                              Large    156.0   \n1                              Small    166.5   \n2                              Small    171.1   \n3                               XX-L    166.0   \n4                              XXX-L    157.2   \n...                              ...      ...   \n1981                           XXX-L    168.7   \n1982                            XX-L    161.3   \n1983                           XXX-L    164.4   \n1984                           Large    161.6   \n1985                           Large    164.1   \n\n     Pants size (waistcircum, crotchheight)  weightkg  \n0                                       X-L      65.7  \n1                                    Medium      53.4  \n2                                    Medium      66.3  \n3                                     XXX-L      78.2  \n4                                    XXXX-L      88.6  \n...                                     ...       ...  \n1981                                  XXX-L      83.2  \n1982                                  XXX-L      71.7  \n1983                                  XXX-L      76.2  \n1984                                    X-L      63.2  \n1985                                  XXX-L      61.0  \n\n[1986 rows x 8 columns]",
      "text/html": "<div>\n<style scoped>\n    .dataframe tbody tr th:only-of-type {\n        vertical-align: middle;\n    }\n\n    .dataframe tbody tr th {\n        vertical-align: top;\n    }\n\n    .dataframe thead th {\n        text-align: right;\n    }\n</style>\n<table border=\"1\" class=\"dataframe\">\n  <thead>\n    <tr style=\"text-align: right;\">\n      <th></th>\n      <th>Unnamed: 0</th>\n      <th>chestcircumference</th>\n      <th>waistcircumference</th>\n      <th>crotchheight</th>\n      <th>T shirt size(chest,waistcircum)</th>\n      <th>stature</th>\n      <th>Pants size (waistcircum, crotchheight)</th>\n      <th>weightkg</th>\n    </tr>\n  </thead>\n  <tbody>\n    <tr>\n      <th>0</th>\n      <td>0</td>\n      <td>92.2</td>\n      <td>85.0</td>\n      <td>75.9</td>\n      <td>Large</td>\n      <td>156.0</td>\n      <td>X-L</td>\n      <td>65.7</td>\n    </tr>\n    <tr>\n      <th>1</th>\n      <td>1</td>\n      <td>83.9</td>\n      <td>70.8</td>\n      <td>83.5</td>\n      <td>Small</td>\n      <td>166.5</td>\n      <td>Medium</td>\n      <td>53.4</td>\n    </tr>\n    <tr>\n      <th>2</th>\n      <td>2</td>\n      <td>87.4</td>\n      <td>72.7</td>\n      <td>82.1</td>\n      <td>Small</td>\n      <td>171.1</td>\n      <td>Medium</td>\n      <td>66.3</td>\n    </tr>\n    <tr>\n      <th>3</th>\n      <td>3</td>\n      <td>100.8</td>\n      <td>92.3</td>\n      <td>80.4</td>\n      <td>XX-L</td>\n      <td>166.0</td>\n      <td>XXX-L</td>\n      <td>78.2</td>\n    </tr>\n    <tr>\n      <th>4</th>\n      <td>4</td>\n      <td>108.9</td>\n      <td>116.3</td>\n      <td>72.6</td>\n      <td>XXX-L</td>\n      <td>157.2</td>\n      <td>XXXX-L</td>\n      <td>88.6</td>\n    </tr>\n    <tr>\n      <th>...</th>\n      <td>...</td>\n      <td>...</td>\n      <td>...</td>\n      <td>...</td>\n      <td>...</td>\n      <td>...</td>\n      <td>...</td>\n      <td>...</td>\n    </tr>\n    <tr>\n      <th>1981</th>\n      <td>1981</td>\n      <td>108.2</td>\n      <td>104.3</td>\n      <td>77.9</td>\n      <td>XXX-L</td>\n      <td>168.7</td>\n      <td>XXX-L</td>\n      <td>83.2</td>\n    </tr>\n    <tr>\n      <th>1982</th>\n      <td>1982</td>\n      <td>101.6</td>\n      <td>97.1</td>\n      <td>73.2</td>\n      <td>XX-L</td>\n      <td>161.3</td>\n      <td>XXX-L</td>\n      <td>71.7</td>\n    </tr>\n    <tr>\n      <th>1983</th>\n      <td>1983</td>\n      <td>109.3</td>\n      <td>98.2</td>\n      <td>79.3</td>\n      <td>XXX-L</td>\n      <td>164.4</td>\n      <td>XXX-L</td>\n      <td>76.2</td>\n    </tr>\n    <tr>\n      <th>1984</th>\n      <td>1984</td>\n      <td>92.2</td>\n      <td>83.7</td>\n      <td>76.3</td>\n      <td>Large</td>\n      <td>161.6</td>\n      <td>X-L</td>\n      <td>63.2</td>\n    </tr>\n    <tr>\n      <th>1985</th>\n      <td>1985</td>\n      <td>90.2</td>\n      <td>89.1</td>\n      <td>78.3</td>\n      <td>Large</td>\n      <td>164.1</td>\n      <td>XXX-L</td>\n      <td>61.0</td>\n    </tr>\n  </tbody>\n</table>\n<p>1986 rows × 8 columns</p>\n</div>"
     },
     "execution_count": 17,
     "metadata": {},
     "output_type": "execute_result"
    }
   ],
   "source": [
    "size_pants = []\n",
    "for waist_pants, crotch in zip(female_first['waistcircumference'], female_first['crotchheight']):\n",
    "    if waist_pants < 65:\n",
    "        if crotch >= 73:\n",
    "            size_pants.append('X-S')\n",
    "        else:\n",
    "            size_pants.append('XX-S')\n",
    "    elif waist_pants < 68:\n",
    "        if crotch >= 76:\n",
    "            size_pants.append('Small')\n",
    "        else:\n",
    "            size_pants.append('X-S')\n",
    "    elif waist_pants < 73:\n",
    "        if crotch >= 78:\n",
    "            size_pants.append('Medium')\n",
    "        else:\n",
    "            size_pants.append('Small')\n",
    "    elif waist_pants < 78:\n",
    "        if crotch >= 81:\n",
    "            size_pants.append('Large')\n",
    "        else:\n",
    "            size_pants.append('Medium')\n",
    "    elif waist_pants < 83:\n",
    "        if crotch >= 82:\n",
    "            size_pants.append('X-L')\n",
    "        else:\n",
    "            size_pants.append('Large')\n",
    "    elif waist_pants < 88:\n",
    "        if crotch >= 83:\n",
    "            size_pants.append('XX-L')\n",
    "        else:\n",
    "            size_pants.append('X-L')\n",
    "    elif waist_pants < 89:\n",
    "        if crotch >= 84:\n",
    "            size_pants.append('X-L')\n",
    "        else:\n",
    "            size_pants.append('XX-L')\n",
    "    elif waist_pants < 105:\n",
    "        if crotch > 89:\n",
    "            size_pants.append('XX-L')\n",
    "        else:\n",
    "            size_pants.append('XXX-L')\n",
    "    elif waist_pants >= 105:\n",
    "        size_pants.append('XXXX-L')\n",
    "\n",
    "\n",
    "female_first['Pants size (waistcircum, crotchheight)'] = size_pants\n",
    "female_first"
   ],
   "metadata": {
    "collapsed": false,
    "pycharm": {
     "name": "#%%\n"
    }
   }
  },
  {
   "cell_type": "code",
   "execution_count": 21,
   "outputs": [
    {
     "ename": "KeyError",
     "evalue": "\"['chestcircumference', 'waistcircumference', 'crotchheight'] not found in axis\"",
     "output_type": "error",
     "traceback": [
      "\u001B[1;31m---------------------------------------------------------------------------\u001B[0m",
      "\u001B[1;31mKeyError\u001B[0m                                  Traceback (most recent call last)",
      "Input \u001B[1;32mIn [21]\u001B[0m, in \u001B[0;36m<cell line: 1>\u001B[1;34m()\u001B[0m\n\u001B[1;32m----> 1\u001B[0m \u001B[43mfemale_first\u001B[49m\u001B[38;5;241;43m.\u001B[39;49m\u001B[43mdrop\u001B[49m\u001B[43m(\u001B[49m\u001B[43m[\u001B[49m\u001B[38;5;124;43m'\u001B[39;49m\u001B[38;5;124;43mchestcircumference\u001B[39;49m\u001B[38;5;124;43m'\u001B[39;49m\u001B[43m,\u001B[49m\u001B[43m \u001B[49m\u001B[38;5;124;43m'\u001B[39;49m\u001B[38;5;124;43mwaistcircumference\u001B[39;49m\u001B[38;5;124;43m'\u001B[39;49m\u001B[43m,\u001B[49m\u001B[43m \u001B[49m\u001B[38;5;124;43m'\u001B[39;49m\u001B[38;5;124;43mcrotchheight\u001B[39;49m\u001B[38;5;124;43m'\u001B[39;49m\u001B[43m,\u001B[49m\u001B[43m]\u001B[49m\u001B[43m,\u001B[49m\u001B[43m \u001B[49m\u001B[43maxis\u001B[49m\u001B[38;5;241;43m=\u001B[39;49m\u001B[38;5;241;43m1\u001B[39;49m\u001B[43m,\u001B[49m\u001B[43m \u001B[49m\u001B[43minplace\u001B[49m\u001B[38;5;241;43m=\u001B[39;49m\u001B[38;5;28;43;01mTrue\u001B[39;49;00m\u001B[43m)\u001B[49m\n",
      "File \u001B[1;32mD:\\Programmeringssprok\\Pyhton\\militaryMeasurement\\venv\\lib\\site-packages\\pandas\\util\\_decorators.py:311\u001B[0m, in \u001B[0;36mdeprecate_nonkeyword_arguments.<locals>.decorate.<locals>.wrapper\u001B[1;34m(*args, **kwargs)\u001B[0m\n\u001B[0;32m    305\u001B[0m \u001B[38;5;28;01mif\u001B[39;00m \u001B[38;5;28mlen\u001B[39m(args) \u001B[38;5;241m>\u001B[39m num_allow_args:\n\u001B[0;32m    306\u001B[0m     warnings\u001B[38;5;241m.\u001B[39mwarn(\n\u001B[0;32m    307\u001B[0m         msg\u001B[38;5;241m.\u001B[39mformat(arguments\u001B[38;5;241m=\u001B[39marguments),\n\u001B[0;32m    308\u001B[0m         \u001B[38;5;167;01mFutureWarning\u001B[39;00m,\n\u001B[0;32m    309\u001B[0m         stacklevel\u001B[38;5;241m=\u001B[39mstacklevel,\n\u001B[0;32m    310\u001B[0m     )\n\u001B[1;32m--> 311\u001B[0m \u001B[38;5;28;01mreturn\u001B[39;00m func(\u001B[38;5;241m*\u001B[39margs, \u001B[38;5;241m*\u001B[39m\u001B[38;5;241m*\u001B[39mkwargs)\n",
      "File \u001B[1;32mD:\\Programmeringssprok\\Pyhton\\militaryMeasurement\\venv\\lib\\site-packages\\pandas\\core\\frame.py:4948\u001B[0m, in \u001B[0;36mDataFrame.drop\u001B[1;34m(self, labels, axis, index, columns, level, inplace, errors)\u001B[0m\n\u001B[0;32m   4800\u001B[0m \u001B[38;5;129m@deprecate_nonkeyword_arguments\u001B[39m(version\u001B[38;5;241m=\u001B[39m\u001B[38;5;28;01mNone\u001B[39;00m, allowed_args\u001B[38;5;241m=\u001B[39m[\u001B[38;5;124m\"\u001B[39m\u001B[38;5;124mself\u001B[39m\u001B[38;5;124m\"\u001B[39m, \u001B[38;5;124m\"\u001B[39m\u001B[38;5;124mlabels\u001B[39m\u001B[38;5;124m\"\u001B[39m])\n\u001B[0;32m   4801\u001B[0m \u001B[38;5;28;01mdef\u001B[39;00m \u001B[38;5;21mdrop\u001B[39m(\n\u001B[0;32m   4802\u001B[0m     \u001B[38;5;28mself\u001B[39m,\n\u001B[1;32m   (...)\u001B[0m\n\u001B[0;32m   4809\u001B[0m     errors: \u001B[38;5;28mstr\u001B[39m \u001B[38;5;241m=\u001B[39m \u001B[38;5;124m\"\u001B[39m\u001B[38;5;124mraise\u001B[39m\u001B[38;5;124m\"\u001B[39m,\n\u001B[0;32m   4810\u001B[0m ):\n\u001B[0;32m   4811\u001B[0m     \u001B[38;5;124;03m\"\"\"\u001B[39;00m\n\u001B[0;32m   4812\u001B[0m \u001B[38;5;124;03m    Drop specified labels from rows or columns.\u001B[39;00m\n\u001B[0;32m   4813\u001B[0m \n\u001B[1;32m   (...)\u001B[0m\n\u001B[0;32m   4946\u001B[0m \u001B[38;5;124;03m            weight  1.0     0.8\u001B[39;00m\n\u001B[0;32m   4947\u001B[0m \u001B[38;5;124;03m    \"\"\"\u001B[39;00m\n\u001B[1;32m-> 4948\u001B[0m     \u001B[38;5;28;01mreturn\u001B[39;00m \u001B[38;5;28;43msuper\u001B[39;49m\u001B[43m(\u001B[49m\u001B[43m)\u001B[49m\u001B[38;5;241;43m.\u001B[39;49m\u001B[43mdrop\u001B[49m\u001B[43m(\u001B[49m\n\u001B[0;32m   4949\u001B[0m \u001B[43m        \u001B[49m\u001B[43mlabels\u001B[49m\u001B[38;5;241;43m=\u001B[39;49m\u001B[43mlabels\u001B[49m\u001B[43m,\u001B[49m\n\u001B[0;32m   4950\u001B[0m \u001B[43m        \u001B[49m\u001B[43maxis\u001B[49m\u001B[38;5;241;43m=\u001B[39;49m\u001B[43maxis\u001B[49m\u001B[43m,\u001B[49m\n\u001B[0;32m   4951\u001B[0m \u001B[43m        \u001B[49m\u001B[43mindex\u001B[49m\u001B[38;5;241;43m=\u001B[39;49m\u001B[43mindex\u001B[49m\u001B[43m,\u001B[49m\n\u001B[0;32m   4952\u001B[0m \u001B[43m        \u001B[49m\u001B[43mcolumns\u001B[49m\u001B[38;5;241;43m=\u001B[39;49m\u001B[43mcolumns\u001B[49m\u001B[43m,\u001B[49m\n\u001B[0;32m   4953\u001B[0m \u001B[43m        \u001B[49m\u001B[43mlevel\u001B[49m\u001B[38;5;241;43m=\u001B[39;49m\u001B[43mlevel\u001B[49m\u001B[43m,\u001B[49m\n\u001B[0;32m   4954\u001B[0m \u001B[43m        \u001B[49m\u001B[43minplace\u001B[49m\u001B[38;5;241;43m=\u001B[39;49m\u001B[43minplace\u001B[49m\u001B[43m,\u001B[49m\n\u001B[0;32m   4955\u001B[0m \u001B[43m        \u001B[49m\u001B[43merrors\u001B[49m\u001B[38;5;241;43m=\u001B[39;49m\u001B[43merrors\u001B[49m\u001B[43m,\u001B[49m\n\u001B[0;32m   4956\u001B[0m \u001B[43m    \u001B[49m\u001B[43m)\u001B[49m\n",
      "File \u001B[1;32mD:\\Programmeringssprok\\Pyhton\\militaryMeasurement\\venv\\lib\\site-packages\\pandas\\core\\generic.py:4279\u001B[0m, in \u001B[0;36mNDFrame.drop\u001B[1;34m(self, labels, axis, index, columns, level, inplace, errors)\u001B[0m\n\u001B[0;32m   4277\u001B[0m \u001B[38;5;28;01mfor\u001B[39;00m axis, labels \u001B[38;5;129;01min\u001B[39;00m axes\u001B[38;5;241m.\u001B[39mitems():\n\u001B[0;32m   4278\u001B[0m     \u001B[38;5;28;01mif\u001B[39;00m labels \u001B[38;5;129;01mis\u001B[39;00m \u001B[38;5;129;01mnot\u001B[39;00m \u001B[38;5;28;01mNone\u001B[39;00m:\n\u001B[1;32m-> 4279\u001B[0m         obj \u001B[38;5;241m=\u001B[39m \u001B[43mobj\u001B[49m\u001B[38;5;241;43m.\u001B[39;49m\u001B[43m_drop_axis\u001B[49m\u001B[43m(\u001B[49m\u001B[43mlabels\u001B[49m\u001B[43m,\u001B[49m\u001B[43m \u001B[49m\u001B[43maxis\u001B[49m\u001B[43m,\u001B[49m\u001B[43m \u001B[49m\u001B[43mlevel\u001B[49m\u001B[38;5;241;43m=\u001B[39;49m\u001B[43mlevel\u001B[49m\u001B[43m,\u001B[49m\u001B[43m \u001B[49m\u001B[43merrors\u001B[49m\u001B[38;5;241;43m=\u001B[39;49m\u001B[43merrors\u001B[49m\u001B[43m)\u001B[49m\n\u001B[0;32m   4281\u001B[0m \u001B[38;5;28;01mif\u001B[39;00m inplace:\n\u001B[0;32m   4282\u001B[0m     \u001B[38;5;28mself\u001B[39m\u001B[38;5;241m.\u001B[39m_update_inplace(obj)\n",
      "File \u001B[1;32mD:\\Programmeringssprok\\Pyhton\\militaryMeasurement\\venv\\lib\\site-packages\\pandas\\core\\generic.py:4323\u001B[0m, in \u001B[0;36mNDFrame._drop_axis\u001B[1;34m(self, labels, axis, level, errors, consolidate, only_slice)\u001B[0m\n\u001B[0;32m   4321\u001B[0m         new_axis \u001B[38;5;241m=\u001B[39m axis\u001B[38;5;241m.\u001B[39mdrop(labels, level\u001B[38;5;241m=\u001B[39mlevel, errors\u001B[38;5;241m=\u001B[39merrors)\n\u001B[0;32m   4322\u001B[0m     \u001B[38;5;28;01melse\u001B[39;00m:\n\u001B[1;32m-> 4323\u001B[0m         new_axis \u001B[38;5;241m=\u001B[39m \u001B[43maxis\u001B[49m\u001B[38;5;241;43m.\u001B[39;49m\u001B[43mdrop\u001B[49m\u001B[43m(\u001B[49m\u001B[43mlabels\u001B[49m\u001B[43m,\u001B[49m\u001B[43m \u001B[49m\u001B[43merrors\u001B[49m\u001B[38;5;241;43m=\u001B[39;49m\u001B[43merrors\u001B[49m\u001B[43m)\u001B[49m\n\u001B[0;32m   4324\u001B[0m     indexer \u001B[38;5;241m=\u001B[39m axis\u001B[38;5;241m.\u001B[39mget_indexer(new_axis)\n\u001B[0;32m   4326\u001B[0m \u001B[38;5;66;03m# Case for non-unique axis\u001B[39;00m\n\u001B[0;32m   4327\u001B[0m \u001B[38;5;28;01melse\u001B[39;00m:\n",
      "File \u001B[1;32mD:\\Programmeringssprok\\Pyhton\\militaryMeasurement\\venv\\lib\\site-packages\\pandas\\core\\indexes\\base.py:6644\u001B[0m, in \u001B[0;36mIndex.drop\u001B[1;34m(self, labels, errors)\u001B[0m\n\u001B[0;32m   6642\u001B[0m \u001B[38;5;28;01mif\u001B[39;00m mask\u001B[38;5;241m.\u001B[39many():\n\u001B[0;32m   6643\u001B[0m     \u001B[38;5;28;01mif\u001B[39;00m errors \u001B[38;5;241m!=\u001B[39m \u001B[38;5;124m\"\u001B[39m\u001B[38;5;124mignore\u001B[39m\u001B[38;5;124m\"\u001B[39m:\n\u001B[1;32m-> 6644\u001B[0m         \u001B[38;5;28;01mraise\u001B[39;00m \u001B[38;5;167;01mKeyError\u001B[39;00m(\u001B[38;5;124mf\u001B[39m\u001B[38;5;124m\"\u001B[39m\u001B[38;5;132;01m{\u001B[39;00m\u001B[38;5;28mlist\u001B[39m(labels[mask])\u001B[38;5;132;01m}\u001B[39;00m\u001B[38;5;124m not found in axis\u001B[39m\u001B[38;5;124m\"\u001B[39m)\n\u001B[0;32m   6645\u001B[0m     indexer \u001B[38;5;241m=\u001B[39m indexer[\u001B[38;5;241m~\u001B[39mmask]\n\u001B[0;32m   6646\u001B[0m \u001B[38;5;28;01mreturn\u001B[39;00m \u001B[38;5;28mself\u001B[39m\u001B[38;5;241m.\u001B[39mdelete(indexer)\n",
      "\u001B[1;31mKeyError\u001B[0m: \"['chestcircumference', 'waistcircumference', 'crotchheight'] not found in axis\""
     ]
    }
   ],
   "source": [
    "female_first.drop(['chestcircumference', 'waistcircumference', 'crotchheight',], axis=1, inplace=True)"
   ],
   "metadata": {
    "collapsed": false,
    "pycharm": {
     "name": "#%%\n"
    }
   }
  },
  {
   "cell_type": "code",
   "execution_count": 24,
   "outputs": [],
   "source": [
    "female_first.drop('Unnamed: 0', axis=1, inplace=True)"
   ],
   "metadata": {
    "collapsed": false,
    "pycharm": {
     "name": "#%%\n"
    }
   }
  },
  {
   "cell_type": "code",
   "execution_count": 25,
   "outputs": [
    {
     "data": {
      "text/plain": "     T shirt size(chest,waistcircum)  stature  \\\n0                              Large    156.0   \n1                              Small    166.5   \n2                              Small    171.1   \n3                               XX-L    166.0   \n4                              XXX-L    157.2   \n...                              ...      ...   \n1981                           XXX-L    168.7   \n1982                            XX-L    161.3   \n1983                           XXX-L    164.4   \n1984                           Large    161.6   \n1985                           Large    164.1   \n\n     Pants size (waistcircum, crotchheight)  weightkg  \n0                                       X-L      65.7  \n1                                    Medium      53.4  \n2                                    Medium      66.3  \n3                                     XXX-L      78.2  \n4                                    XXXX-L      88.6  \n...                                     ...       ...  \n1981                                  XXX-L      83.2  \n1982                                  XXX-L      71.7  \n1983                                  XXX-L      76.2  \n1984                                    X-L      63.2  \n1985                                  XXX-L      61.0  \n\n[1986 rows x 4 columns]",
      "text/html": "<div>\n<style scoped>\n    .dataframe tbody tr th:only-of-type {\n        vertical-align: middle;\n    }\n\n    .dataframe tbody tr th {\n        vertical-align: top;\n    }\n\n    .dataframe thead th {\n        text-align: right;\n    }\n</style>\n<table border=\"1\" class=\"dataframe\">\n  <thead>\n    <tr style=\"text-align: right;\">\n      <th></th>\n      <th>T shirt size(chest,waistcircum)</th>\n      <th>stature</th>\n      <th>Pants size (waistcircum, crotchheight)</th>\n      <th>weightkg</th>\n    </tr>\n  </thead>\n  <tbody>\n    <tr>\n      <th>0</th>\n      <td>Large</td>\n      <td>156.0</td>\n      <td>X-L</td>\n      <td>65.7</td>\n    </tr>\n    <tr>\n      <th>1</th>\n      <td>Small</td>\n      <td>166.5</td>\n      <td>Medium</td>\n      <td>53.4</td>\n    </tr>\n    <tr>\n      <th>2</th>\n      <td>Small</td>\n      <td>171.1</td>\n      <td>Medium</td>\n      <td>66.3</td>\n    </tr>\n    <tr>\n      <th>3</th>\n      <td>XX-L</td>\n      <td>166.0</td>\n      <td>XXX-L</td>\n      <td>78.2</td>\n    </tr>\n    <tr>\n      <th>4</th>\n      <td>XXX-L</td>\n      <td>157.2</td>\n      <td>XXXX-L</td>\n      <td>88.6</td>\n    </tr>\n    <tr>\n      <th>...</th>\n      <td>...</td>\n      <td>...</td>\n      <td>...</td>\n      <td>...</td>\n    </tr>\n    <tr>\n      <th>1981</th>\n      <td>XXX-L</td>\n      <td>168.7</td>\n      <td>XXX-L</td>\n      <td>83.2</td>\n    </tr>\n    <tr>\n      <th>1982</th>\n      <td>XX-L</td>\n      <td>161.3</td>\n      <td>XXX-L</td>\n      <td>71.7</td>\n    </tr>\n    <tr>\n      <th>1983</th>\n      <td>XXX-L</td>\n      <td>164.4</td>\n      <td>XXX-L</td>\n      <td>76.2</td>\n    </tr>\n    <tr>\n      <th>1984</th>\n      <td>Large</td>\n      <td>161.6</td>\n      <td>X-L</td>\n      <td>63.2</td>\n    </tr>\n    <tr>\n      <th>1985</th>\n      <td>Large</td>\n      <td>164.1</td>\n      <td>XXX-L</td>\n      <td>61.0</td>\n    </tr>\n  </tbody>\n</table>\n<p>1986 rows × 4 columns</p>\n</div>"
     },
     "execution_count": 25,
     "metadata": {},
     "output_type": "execute_result"
    }
   ],
   "source": [
    "female_first"
   ],
   "metadata": {
    "collapsed": false,
    "pycharm": {
     "name": "#%%\n"
    }
   }
  },
  {
   "cell_type": "code",
   "execution_count": 31,
   "outputs": [
    {
     "name": "stdout",
     "output_type": "stream",
     "text": [
      "     T shirt size(chest,waistcircum) Pants size (waistcircum, crotchheight)  \\\n",
      "0                              Large                                    X-L   \n",
      "1                              Small                                 Medium   \n",
      "2                              Small                                 Medium   \n",
      "3                               XX-L                                  XXX-L   \n",
      "4                              XXX-L                                 XXXX-L   \n",
      "...                              ...                                    ...   \n",
      "1981                           XXX-L                                  XXX-L   \n",
      "1982                            XX-L                                  XXX-L   \n",
      "1983                           XXX-L                                  XXX-L   \n",
      "1984                           Large                                    X-L   \n",
      "1985                           Large                                  XXX-L   \n",
      "\n",
      "      stature  weightkg  \n",
      "0       156.0      65.7  \n",
      "1       166.5      53.4  \n",
      "2       171.1      66.3  \n",
      "3       166.0      78.2  \n",
      "4       157.2      88.6  \n",
      "...       ...       ...  \n",
      "1981    168.7      83.2  \n",
      "1982    161.3      71.7  \n",
      "1983    164.4      76.2  \n",
      "1984    161.6      63.2  \n",
      "1985    164.1      61.0  \n",
      "\n",
      "[1986 rows x 4 columns]\n"
     ]
    }
   ],
   "source": [
    "def swap_columns(female_first, col1, col2):\n",
    "    col_list = list(female_first.columns)\n",
    "    x, y = col_list.index(col1), col_list.index(col2)\n",
    "    col_list[y], col_list[x] = col_list[x], col_list[y]\n",
    "    female_first = female_first[col_list]\n",
    "    return female_first\n",
    "\n",
    "female_first = swap_columns(female_first, 'stature', 'Pants size (waistcircum, crotchheight)')\n",
    "print(female_first)"
   ],
   "metadata": {
    "collapsed": false,
    "pycharm": {
     "name": "#%%\n"
    }
   }
  },
  {
   "cell_type": "code",
   "execution_count": 34,
   "outputs": [
    {
     "data": {
      "text/plain": "     T shirt size(chest,waistcircum) Pants size (waistcircum, crotchheight)  \\\n0                              Large                                    X-L   \n1                              Small                                 Medium   \n2                              Small                                 Medium   \n3                               XX-L                                  XXX-L   \n4                              XXX-L                                 XXXX-L   \n...                              ...                                    ...   \n1981                           XXX-L                                  XXX-L   \n1982                            XX-L                                  XXX-L   \n1983                           XXX-L                                  XXX-L   \n1984                           Large                                    X-L   \n1985                           Large                                  XXX-L   \n\n      stature  weightkg  \n0       156.0      65.7  \n1       166.5      53.4  \n2       171.1      66.3  \n3       166.0      78.2  \n4       157.2      88.6  \n...       ...       ...  \n1981    168.7      83.2  \n1982    161.3      71.7  \n1983    164.4      76.2  \n1984    161.6      63.2  \n1985    164.1      61.0  \n\n[1986 rows x 4 columns]",
      "text/html": "<div>\n<style scoped>\n    .dataframe tbody tr th:only-of-type {\n        vertical-align: middle;\n    }\n\n    .dataframe tbody tr th {\n        vertical-align: top;\n    }\n\n    .dataframe thead th {\n        text-align: right;\n    }\n</style>\n<table border=\"1\" class=\"dataframe\">\n  <thead>\n    <tr style=\"text-align: right;\">\n      <th></th>\n      <th>T shirt size(chest,waistcircum)</th>\n      <th>Pants size (waistcircum, crotchheight)</th>\n      <th>stature</th>\n      <th>weightkg</th>\n    </tr>\n  </thead>\n  <tbody>\n    <tr>\n      <th>0</th>\n      <td>Large</td>\n      <td>X-L</td>\n      <td>156.0</td>\n      <td>65.7</td>\n    </tr>\n    <tr>\n      <th>1</th>\n      <td>Small</td>\n      <td>Medium</td>\n      <td>166.5</td>\n      <td>53.4</td>\n    </tr>\n    <tr>\n      <th>2</th>\n      <td>Small</td>\n      <td>Medium</td>\n      <td>171.1</td>\n      <td>66.3</td>\n    </tr>\n    <tr>\n      <th>3</th>\n      <td>XX-L</td>\n      <td>XXX-L</td>\n      <td>166.0</td>\n      <td>78.2</td>\n    </tr>\n    <tr>\n      <th>4</th>\n      <td>XXX-L</td>\n      <td>XXXX-L</td>\n      <td>157.2</td>\n      <td>88.6</td>\n    </tr>\n    <tr>\n      <th>...</th>\n      <td>...</td>\n      <td>...</td>\n      <td>...</td>\n      <td>...</td>\n    </tr>\n    <tr>\n      <th>1981</th>\n      <td>XXX-L</td>\n      <td>XXX-L</td>\n      <td>168.7</td>\n      <td>83.2</td>\n    </tr>\n    <tr>\n      <th>1982</th>\n      <td>XX-L</td>\n      <td>XXX-L</td>\n      <td>161.3</td>\n      <td>71.7</td>\n    </tr>\n    <tr>\n      <th>1983</th>\n      <td>XXX-L</td>\n      <td>XXX-L</td>\n      <td>164.4</td>\n      <td>76.2</td>\n    </tr>\n    <tr>\n      <th>1984</th>\n      <td>Large</td>\n      <td>X-L</td>\n      <td>161.6</td>\n      <td>63.2</td>\n    </tr>\n    <tr>\n      <th>1985</th>\n      <td>Large</td>\n      <td>XXX-L</td>\n      <td>164.1</td>\n      <td>61.0</td>\n    </tr>\n  </tbody>\n</table>\n<p>1986 rows × 4 columns</p>\n</div>"
     },
     "execution_count": 34,
     "metadata": {},
     "output_type": "execute_result"
    }
   ],
   "source": [
    "female_first"
   ],
   "metadata": {
    "collapsed": false,
    "pycharm": {
     "name": "#%%\n"
    }
   }
  },
  {
   "cell_type": "code",
   "execution_count": 33,
   "outputs": [],
   "source": [
    "female_first.to_csv('female_completed')"
   ],
   "metadata": {
    "collapsed": false,
    "pycharm": {
     "name": "#%%\n"
    }
   }
  },
  {
   "cell_type": "markdown",
   "source": [],
   "metadata": {
    "collapsed": false,
    "pycharm": {
     "name": "#%% md\n"
    }
   }
  }
 ],
 "metadata": {
  "kernelspec": {
   "display_name": "Python 3",
   "language": "python",
   "name": "python3"
  },
  "language_info": {
   "codemirror_mode": {
    "name": "ipython",
    "version": 2
   },
   "file_extension": ".py",
   "mimetype": "text/x-python",
   "name": "python",
   "nbconvert_exporter": "python",
   "pygments_lexer": "ipython2",
   "version": "2.7.6"
  }
 },
 "nbformat": 4,
 "nbformat_minor": 0
}